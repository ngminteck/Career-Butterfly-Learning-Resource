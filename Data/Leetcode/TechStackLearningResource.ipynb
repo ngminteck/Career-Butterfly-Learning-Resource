{
 "cells": [
  {
   "cell_type": "code",
   "execution_count": 77,
   "id": "b27731b2-0e44-4b6a-a5ef-13c4055d05fd",
   "metadata": {},
   "outputs": [
    {
     "name": "stdout",
     "output_type": "stream",
     "text": [
      "Requirement already satisfied: seleniumbase in c:\\users\\ng_mi\\anaconda3\\lib\\site-packages (4.24.3)\n",
      "Requirement already satisfied: pip>=24.0 in c:\\users\\ng_mi\\anaconda3\\lib\\site-packages (from seleniumbase) (24.0)\n",
      "Requirement already satisfied: packaging>=23.2 in c:\\users\\ng_mi\\anaconda3\\lib\\site-packages (from seleniumbase) (23.2)\n",
      "Requirement already satisfied: wheel>=0.42.0 in c:\\users\\ng_mi\\anaconda3\\lib\\site-packages (from seleniumbase) (0.42.0)\n",
      "Requirement already satisfied: attrs>=23.2.0 in c:\\users\\ng_mi\\anaconda3\\lib\\site-packages (from seleniumbase) (23.2.0)\n",
      "Requirement already satisfied: certifi>=2024.2.2 in c:\\users\\ng_mi\\anaconda3\\lib\\site-packages (from seleniumbase) (2024.2.2)\n",
      "Requirement already satisfied: parse>=1.20.1 in c:\\users\\ng_mi\\anaconda3\\lib\\site-packages (from seleniumbase) (1.20.1)\n",
      "Requirement already satisfied: parse-type>=0.6.2 in c:\\users\\ng_mi\\anaconda3\\lib\\site-packages (from seleniumbase) (0.6.2)\n",
      "Requirement already satisfied: pyyaml>=6.0.1 in c:\\users\\ng_mi\\anaconda3\\lib\\site-packages (from seleniumbase) (6.0.1)\n",
      "Requirement already satisfied: six==1.16.0 in c:\\users\\ng_mi\\anaconda3\\lib\\site-packages (from seleniumbase) (1.16.0)\n",
      "Requirement already satisfied: idna==3.6 in c:\\users\\ng_mi\\anaconda3\\lib\\site-packages (from seleniumbase) (3.6)\n",
      "Requirement already satisfied: chardet==5.2.0 in c:\\users\\ng_mi\\anaconda3\\lib\\site-packages (from seleniumbase) (5.2.0)\n",
      "Requirement already satisfied: charset-normalizer==3.3.2 in c:\\users\\ng_mi\\anaconda3\\lib\\site-packages (from seleniumbase) (3.3.2)\n",
      "Requirement already satisfied: requests==2.31.0 in c:\\users\\ng_mi\\anaconda3\\lib\\site-packages (from seleniumbase) (2.31.0)\n",
      "Requirement already satisfied: pynose==1.5.0 in c:\\users\\ng_mi\\anaconda3\\lib\\site-packages (from seleniumbase) (1.5.0)\n",
      "Requirement already satisfied: sniffio==1.3.1 in c:\\users\\ng_mi\\anaconda3\\lib\\site-packages (from seleniumbase) (1.3.1)\n",
      "Requirement already satisfied: h11==0.14.0 in c:\\users\\ng_mi\\anaconda3\\lib\\site-packages (from seleniumbase) (0.14.0)\n",
      "Requirement already satisfied: outcome==1.3.0.post0 in c:\\users\\ng_mi\\anaconda3\\lib\\site-packages (from seleniumbase) (1.3.0.post0)\n",
      "Requirement already satisfied: trio-websocket==0.11.1 in c:\\users\\ng_mi\\anaconda3\\lib\\site-packages (from seleniumbase) (0.11.1)\n",
      "Requirement already satisfied: wsproto==1.2.0 in c:\\users\\ng_mi\\anaconda3\\lib\\site-packages (from seleniumbase) (1.2.0)\n",
      "Requirement already satisfied: cssselect==1.2.0 in c:\\users\\ng_mi\\anaconda3\\lib\\site-packages (from seleniumbase) (1.2.0)\n",
      "Requirement already satisfied: sortedcontainers==2.4.0 in c:\\users\\ng_mi\\anaconda3\\lib\\site-packages (from seleniumbase) (2.4.0)\n",
      "Requirement already satisfied: fasteners==0.19 in c:\\users\\ng_mi\\anaconda3\\lib\\site-packages (from seleniumbase) (0.19)\n",
      "Requirement already satisfied: execnet==2.0.2 in c:\\users\\ng_mi\\anaconda3\\lib\\site-packages (from seleniumbase) (2.0.2)\n",
      "Requirement already satisfied: iniconfig==2.0.0 in c:\\users\\ng_mi\\anaconda3\\lib\\site-packages (from seleniumbase) (2.0.0)\n",
      "Requirement already satisfied: py==1.11.0 in c:\\users\\ng_mi\\anaconda3\\lib\\site-packages (from seleniumbase) (1.11.0)\n",
      "Requirement already satisfied: pytest-html==2.0.1 in c:\\users\\ng_mi\\anaconda3\\lib\\site-packages (from seleniumbase) (2.0.1)\n",
      "Requirement already satisfied: pytest-ordering==0.6 in c:\\users\\ng_mi\\anaconda3\\lib\\site-packages (from seleniumbase) (0.6)\n",
      "Requirement already satisfied: pytest-rerunfailures==13.0 in c:\\users\\ng_mi\\anaconda3\\lib\\site-packages (from seleniumbase) (13.0)\n",
      "Requirement already satisfied: pytest-xdist==3.5.0 in c:\\users\\ng_mi\\anaconda3\\lib\\site-packages (from seleniumbase) (3.5.0)\n",
      "Requirement already satisfied: parameterized==0.9.0 in c:\\users\\ng_mi\\anaconda3\\lib\\site-packages (from seleniumbase) (0.9.0)\n",
      "Requirement already satisfied: sbvirtualdisplay==1.3.0 in c:\\users\\ng_mi\\anaconda3\\lib\\site-packages (from seleniumbase) (1.3.0)\n",
      "Requirement already satisfied: behave==1.2.6 in c:\\users\\ng_mi\\anaconda3\\lib\\site-packages (from seleniumbase) (1.2.6)\n",
      "Requirement already satisfied: beautifulsoup4==4.12.3 in c:\\users\\ng_mi\\anaconda3\\lib\\site-packages (from seleniumbase) (4.12.3)\n",
      "Requirement already satisfied: pygments==2.17.2 in c:\\users\\ng_mi\\anaconda3\\lib\\site-packages (from seleniumbase) (2.17.2)\n",
      "Requirement already satisfied: tabcompleter==1.3.0 in c:\\users\\ng_mi\\anaconda3\\lib\\site-packages (from seleniumbase) (1.3.0)\n",
      "Requirement already satisfied: pdbp==1.5.0 in c:\\users\\ng_mi\\anaconda3\\lib\\site-packages (from seleniumbase) (1.5.0)\n",
      "Requirement already satisfied: colorama==0.4.6 in c:\\users\\ng_mi\\anaconda3\\lib\\site-packages (from seleniumbase) (0.4.6)\n",
      "Requirement already satisfied: exceptiongroup==1.2.0 in c:\\users\\ng_mi\\anaconda3\\lib\\site-packages (from seleniumbase) (1.2.0)\n",
      "Requirement already satisfied: pyotp==2.9.0 in c:\\users\\ng_mi\\anaconda3\\lib\\site-packages (from seleniumbase) (2.9.0)\n",
      "Requirement already satisfied: mdurl==0.1.2 in c:\\users\\ng_mi\\anaconda3\\lib\\site-packages (from seleniumbase) (0.1.2)\n",
      "Requirement already satisfied: rich==13.7.1 in c:\\users\\ng_mi\\anaconda3\\lib\\site-packages (from seleniumbase) (13.7.1)\n",
      "Requirement already satisfied: pyreadline3==3.4.1 in c:\\users\\ng_mi\\anaconda3\\lib\\site-packages (from seleniumbase) (3.4.1)\n",
      "Requirement already satisfied: urllib3<2.3.0,>=1.26.18 in c:\\users\\ng_mi\\anaconda3\\lib\\site-packages (from seleniumbase) (1.26.18)\n",
      "Requirement already satisfied: setuptools>=69.1.1 in c:\\users\\ng_mi\\anaconda3\\lib\\site-packages (from seleniumbase) (69.1.1)\n",
      "Requirement already satisfied: filelock>=3.13.1 in c:\\users\\ng_mi\\anaconda3\\lib\\site-packages (from seleniumbase) (3.13.1)\n",
      "Requirement already satisfied: platformdirs>=4.2.0 in c:\\users\\ng_mi\\anaconda3\\lib\\site-packages (from seleniumbase) (4.2.0)\n",
      "Requirement already satisfied: typing-extensions>=4.10.0 in c:\\users\\ng_mi\\anaconda3\\lib\\site-packages (from seleniumbase) (4.10.0)\n",
      "Requirement already satisfied: trio==0.24.0 in c:\\users\\ng_mi\\anaconda3\\lib\\site-packages (from seleniumbase) (0.24.0)\n",
      "Requirement already satisfied: selenium==4.18.1 in c:\\users\\ng_mi\\anaconda3\\lib\\site-packages (from seleniumbase) (4.18.1)\n",
      "Requirement already satisfied: pluggy==1.4.0 in c:\\users\\ng_mi\\anaconda3\\lib\\site-packages (from seleniumbase) (1.4.0)\n",
      "Requirement already satisfied: pytest==8.0.2 in c:\\users\\ng_mi\\anaconda3\\lib\\site-packages (from seleniumbase) (8.0.2)\n",
      "Requirement already satisfied: pytest-metadata==3.1.1 in c:\\users\\ng_mi\\anaconda3\\lib\\site-packages (from seleniumbase) (3.1.1)\n",
      "Requirement already satisfied: soupsieve==2.5 in c:\\users\\ng_mi\\anaconda3\\lib\\site-packages (from seleniumbase) (2.5)\n",
      "Requirement already satisfied: markdown-it-py==3.0.0 in c:\\users\\ng_mi\\anaconda3\\lib\\site-packages (from seleniumbase) (3.0.0)\n",
      "Requirement already satisfied: tomli>=1.0.0 in c:\\users\\ng_mi\\anaconda3\\lib\\site-packages (from pytest==8.0.2->seleniumbase) (2.0.1)\n",
      "Requirement already satisfied: cffi>=1.14 in c:\\users\\ng_mi\\anaconda3\\lib\\site-packages (from trio==0.24.0->seleniumbase) (1.16.0)\n",
      "Requirement already satisfied: pycparser in c:\\users\\ng_mi\\anaconda3\\lib\\site-packages (from cffi>=1.14->trio==0.24.0->seleniumbase) (2.21)\n",
      "Requirement already satisfied: PySocks!=1.5.7,<2.0,>=1.5.6 in c:\\users\\ng_mi\\anaconda3\\lib\\site-packages (from urllib3[socks]<3,>=1.26->selenium==4.18.1->seleniumbase) (1.7.1)\n",
      "Requirement already satisfied: selenium in c:\\users\\ng_mi\\anaconda3\\lib\\site-packages (4.18.1)\n",
      "Requirement already satisfied: urllib3<3,>=1.26 in c:\\users\\ng_mi\\anaconda3\\lib\\site-packages (from urllib3[socks]<3,>=1.26->selenium) (1.26.18)\n",
      "Requirement already satisfied: trio~=0.17 in c:\\users\\ng_mi\\anaconda3\\lib\\site-packages (from selenium) (0.24.0)\n",
      "Requirement already satisfied: trio-websocket~=0.9 in c:\\users\\ng_mi\\anaconda3\\lib\\site-packages (from selenium) (0.11.1)\n",
      "Requirement already satisfied: certifi>=2021.10.8 in c:\\users\\ng_mi\\anaconda3\\lib\\site-packages (from selenium) (2024.2.2)"
     ]
    }
   ],
   "source": [
    "!pip install seleniumbase \n",
    "!pip install selenium"
   ]
  },
  {
   "cell_type": "code",
   "execution_count": 18,
   "id": "5c1d0efb-4345-4108-b637-918b6b0cabf8",
   "metadata": {},
   "outputs": [],
   "source": [
    "from seleniumbase import Driver\n",
    "from seleniumbase import page_actions\n",
    "from selenium.webdriver.support.ui import WebDriverWait\n",
    "from selenium.webdriver.common.by import By\n",
    "from selenium.webdriver.support import expected_conditions as EC\n",
    "import os\n",
    "import requests\n",
    "import time\n",
    "import csv"
   ]
  },
  {
   "cell_type": "code",
   "execution_count": 25,
   "id": "1234421c-1125-4bdf-943e-fe10c9e2ab61",
   "metadata": {
    "editable": true,
    "slideshow": {
     "slide_type": ""
    },
    "tags": []
   },
   "outputs": [],
   "source": [
    "class CopliotPrompt:\n",
    "    def __init__(self):\n",
    "        self.driver = Driver(uc=True)\n",
    "        self.techstack_list=[]\n",
    "        self.no = 23\n",
    "\n",
    "    def Login(self,id,pw):\n",
    "        url = \"https://login.live.com/\"\n",
    "        self.driver.get(url)\n",
    "        time.sleep(3)\n",
    "        id_field = self.driver.find_element(by=By.XPATH, value=\"(//input[@id='i0116'])[1]\")\n",
    "        id_field.send_keys(id)\n",
    "        WebDriverWait(self.driver, 1).until(EC.element_to_be_clickable((By.XPATH, \"(//button[normalize-space()='Next'])[1]\"))).click()\n",
    "        time.sleep(2)\n",
    "        pw_field = self.driver.find_element(by=By.XPATH, value=\"(//input[@id='i0118'])[1]\")\n",
    "        pw_field.send_keys(pw)\n",
    "        WebDriverWait(self.driver, 1).until(EC.element_to_be_clickable((By.XPATH, \"(//button[normalize-space()='Sign in'])[1]\"))).click()\n",
    "        time.sleep(2)\n",
    "        self.LoadTechStackList()\n",
    "\n",
    "    def LoadTechStackList(self):\n",
    "        cf = open(\"techstack.txt\", \"r\")\n",
    "        for c in cf:\n",
    "            c = c.replace(\"\\n\", \"\")\n",
    "            self.techstack_list.append(c)\n",
    "        cf.close\n",
    "        self.GoToCopliot()\n",
    "\n",
    "    def GoToCopliot(self):\n",
    "        url = \"https://www.bing.com/search?q=Bing%20AI&showconv=1&form=MG0AUO\"\n",
    "        # go 3 time to bypass the popup\n",
    "        self.driver.get(url)\n",
    "        time.sleep(2)\n",
    "        self.driver.get(url)\n",
    "        time.sleep(2)\n",
    "        self.QueryCopliot()\n",
    "       \n",
    "        \n",
    "\n",
    "    def QueryCopliot(self):\n",
    "        dest_folder = 'TechStack Learning Resource'\n",
    "        if not os.path.exists(dest_folder):\n",
    "            os.makedirs(dest_folder)\n",
    "\n",
    "        url = \"https://www.bing.com/search?q=Bing%20AI&showconv=1&form=MG0AUO\"\n",
    "        \n",
    "        if self.no < len(self.techstack_list):\n",
    "            tech_stack = self.techstack_list[self.no]\n",
    "\n",
    "            tech_stack = tech_stack.replace('/','-')\n",
    "            tech_stack = tech_stack.replace('\\\\','-')\n",
    "            if tech_stack == \"Swift\":\n",
    "                tech_stack = \"Swift programming\"\n",
    "            \n",
    "            self.driver.get(url)\n",
    "            time.sleep(5)\n",
    "            query = \"What is \" + tech_stack + \" in technology?\"\n",
    "            dom1 = self.driver.find_element(by=By.CSS_SELECTOR, value=\".cib-serp-main\").shadow_root\n",
    "            input_shadow_dom2 = dom1.find_element(by=By.CSS_SELECTOR, value=\"#cib-action-bar-main\").shadow_root\n",
    "            input_shadow_dom3 = input_shadow_dom2.find_element(by=By.CSS_SELECTOR, value=\"cib-text-input[serp-slot='none']\").shadow_root\n",
    "            text_field = input_shadow_dom3.find_element(by=By.CSS_SELECTOR, value=\"#searchbox\")\n",
    "            text_field.send_keys(query)\n",
    "            time.sleep(1)\n",
    "            input_shadow_dom2.find_element(by=By.CSS_SELECTOR, value=\"button[aria-label='Submit']\").click()\n",
    "            time.sleep(60)\n",
    "            response_shadow_dom2 = dom1.find_element(by=By.CSS_SELECTOR, value=\"#cib-conversation-main\").shadow_root\n",
    "            response_shadow_dom3 = response_shadow_dom2.find_element(by=By.CSS_SELECTOR, value=\"cib-chat-turn[serp-slot='none']\").shadow_root\n",
    "            response_shadow_dom4 = response_shadow_dom3.find_element(by=By.CSS_SELECTOR, value=\".response-message-group\").shadow_root\n",
    "            response_shadow_dom5 = response_shadow_dom4.find_element(by=By.CSS_SELECTOR, value=\"cib-message:nth-child(2)\").shadow_root\n",
    "            response = response_shadow_dom5.find_element(by=By.CSS_SELECTOR, value=\"div[class='content']\")\n",
    "            content1 = response.get_attribute(\"innerHTML\")\n",
    "            self.driver.get(url)\n",
    "            time.sleep(5)\n",
    "            query = \"Where can i learn more about \" + tech_stack + \" technology?\"\n",
    "            dom1 = self.driver.find_element(by=By.CSS_SELECTOR, value=\".cib-serp-main\").shadow_root\n",
    "            input_shadow_dom2 = dom1.find_element(by=By.CSS_SELECTOR, value=\"#cib-action-bar-main\").shadow_root\n",
    "            input_shadow_dom3 = input_shadow_dom2.find_element(by=By.CSS_SELECTOR, value=\"cib-text-input[serp-slot='none']\").shadow_root\n",
    "            text_field = input_shadow_dom3.find_element(by=By.CSS_SELECTOR, value=\"#searchbox\")\n",
    "            text_field.send_keys(query)\n",
    "            time.sleep(1)\n",
    "            input_shadow_dom2.find_element(by=By.CSS_SELECTOR, value=\"button[aria-label='Submit']\").click()\n",
    "            time.sleep(60)\n",
    "            response_shadow_dom2 = dom1.find_element(by=By.CSS_SELECTOR, value=\"#cib-conversation-main\").shadow_root\n",
    "            response_shadow_dom3 = response_shadow_dom2.find_element(by=By.CSS_SELECTOR, value=\"cib-chat-turn[serp-slot='none']\").shadow_root\n",
    "            response_shadow_dom4 = response_shadow_dom3.find_element(by=By.CSS_SELECTOR, value=\".response-message-group\").shadow_root\n",
    "            response_shadow_dom5 = response_shadow_dom4.find_element(by=By.CSS_SELECTOR, value=\"cib-message:nth-child(2)\").shadow_root\n",
    "            response = response_shadow_dom5.find_element(by=By.CSS_SELECTOR, value=\"div[class='content']\")\n",
    "            content2 = response.get_attribute(\"innerHTML\")\n",
    "            file_name = tech_stack + \".html\"\n",
    "            file_path = os.path.join(dest_folder, file_name)\n",
    "            with open(file_path, 'w', encoding='utf-8') as f:  \n",
    "                f.write(content1)   \n",
    "                f.write(content2)   \n",
    "                f.close()\n",
    "            time.sleep(2)\n",
    "            print(self.no,tech_stack,\"intro and learning links exported successfully.\")\n",
    "            self.no +=1\n",
    "            self.QueryCopliot()\n",
    "    \n",
    "\n",
    "\n",
    "    "
   ]
  },
  {
   "cell_type": "code",
   "execution_count": 26,
   "id": "f7f81c2a-bbdf-4582-be46-c69dc0f30ee8",
   "metadata": {
    "editable": true,
    "slideshow": {
     "slide_type": ""
    },
    "tags": []
   },
   "outputs": [],
   "source": [
    "id = \"\"\n",
    "pw = \"\""
   ]
  },
  {
   "cell_type": "code",
   "execution_count": 27,
   "id": "db6afb27-155b-4221-85f4-fe63bb7b23f2",
   "metadata": {
    "editable": true,
    "slideshow": {
     "slide_type": ""
    },
    "tags": []
   },
   "outputs": [
    {
     "name": "stdout",
     "output_type": "stream",
     "text": [
      "23 PL-SQL intro and learning links exported successfully.\n",
      "24 Delphi intro and learning links exported successfully.\n",
      "25 COBOL intro and learning links exported successfully.\n",
      "26 Kotlin intro and learning links exported successfully.\n",
      "27 OpenEdge ABL intro and learning links exported successfully.\n",
      "28 Julia intro and learning links exported successfully.\n",
      "29 ABAP intro and learning links exported successfully.\n",
      "30 Scala intro and learning links exported successfully.\n",
      "31 Transact-SQL intro and learning links exported successfully.\n",
      "32 Scheme intro and learning links exported successfully.\n"
     ]
    },
    {
     "ename": "KeyboardInterrupt",
     "evalue": "",
     "output_type": "error",
     "traceback": [
      "\u001b[1;31m---------------------------------------------------------------------------\u001b[0m",
      "\u001b[1;31mKeyboardInterrupt\u001b[0m                         Traceback (most recent call last)",
      "Cell \u001b[1;32mIn[27], line 2\u001b[0m\n\u001b[0;32m      1\u001b[0m test \u001b[38;5;241m=\u001b[39m CopliotPrompt()\n\u001b[1;32m----> 2\u001b[0m \u001b[43mtest\u001b[49m\u001b[38;5;241;43m.\u001b[39;49m\u001b[43mLogin\u001b[49m\u001b[43m(\u001b[49m\u001b[38;5;28;43mid\u001b[39;49m\u001b[43m,\u001b[49m\u001b[43mpw\u001b[49m\u001b[43m)\u001b[49m\n",
      "Cell \u001b[1;32mIn[25], line 19\u001b[0m, in \u001b[0;36mCopliotPrompt.Login\u001b[1;34m(self, id, pw)\u001b[0m\n\u001b[0;32m     17\u001b[0m WebDriverWait(\u001b[38;5;28mself\u001b[39m\u001b[38;5;241m.\u001b[39mdriver, \u001b[38;5;241m1\u001b[39m)\u001b[38;5;241m.\u001b[39muntil(EC\u001b[38;5;241m.\u001b[39melement_to_be_clickable((By\u001b[38;5;241m.\u001b[39mXPATH, \u001b[38;5;124m\"\u001b[39m\u001b[38;5;124m(//button[normalize-space()=\u001b[39m\u001b[38;5;124m'\u001b[39m\u001b[38;5;124mSign in\u001b[39m\u001b[38;5;124m'\u001b[39m\u001b[38;5;124m])[1]\u001b[39m\u001b[38;5;124m\"\u001b[39m)))\u001b[38;5;241m.\u001b[39mclick()\n\u001b[0;32m     18\u001b[0m time\u001b[38;5;241m.\u001b[39msleep(\u001b[38;5;241m2\u001b[39m)\n\u001b[1;32m---> 19\u001b[0m \u001b[38;5;28;43mself\u001b[39;49m\u001b[38;5;241;43m.\u001b[39;49m\u001b[43mLoadTechStackList\u001b[49m\u001b[43m(\u001b[49m\u001b[43m)\u001b[49m\n",
      "Cell \u001b[1;32mIn[25], line 27\u001b[0m, in \u001b[0;36mCopliotPrompt.LoadTechStackList\u001b[1;34m(self)\u001b[0m\n\u001b[0;32m     25\u001b[0m     \u001b[38;5;28mself\u001b[39m\u001b[38;5;241m.\u001b[39mtechstack_list\u001b[38;5;241m.\u001b[39mappend(c)\n\u001b[0;32m     26\u001b[0m cf\u001b[38;5;241m.\u001b[39mclose\n\u001b[1;32m---> 27\u001b[0m \u001b[38;5;28;43mself\u001b[39;49m\u001b[38;5;241;43m.\u001b[39;49m\u001b[43mGoToCopliot\u001b[49m\u001b[43m(\u001b[49m\u001b[43m)\u001b[49m\n",
      "Cell \u001b[1;32mIn[25], line 36\u001b[0m, in \u001b[0;36mCopliotPrompt.GoToCopliot\u001b[1;34m(self)\u001b[0m\n\u001b[0;32m     34\u001b[0m \u001b[38;5;28mself\u001b[39m\u001b[38;5;241m.\u001b[39mdriver\u001b[38;5;241m.\u001b[39mget(url)\n\u001b[0;32m     35\u001b[0m time\u001b[38;5;241m.\u001b[39msleep(\u001b[38;5;241m2\u001b[39m)\n\u001b[1;32m---> 36\u001b[0m \u001b[38;5;28;43mself\u001b[39;49m\u001b[38;5;241;43m.\u001b[39;49m\u001b[43mQueryCopliot\u001b[49m\u001b[43m(\u001b[49m\u001b[43m)\u001b[49m\n",
      "Cell \u001b[1;32mIn[25], line 98\u001b[0m, in \u001b[0;36mCopliotPrompt.QueryCopliot\u001b[1;34m(self)\u001b[0m\n\u001b[0;32m     96\u001b[0m \u001b[38;5;28mprint\u001b[39m(\u001b[38;5;28mself\u001b[39m\u001b[38;5;241m.\u001b[39mno,tech_stack,\u001b[38;5;124m\"\u001b[39m\u001b[38;5;124mintro and learning links exported successfully.\u001b[39m\u001b[38;5;124m\"\u001b[39m)\n\u001b[0;32m     97\u001b[0m \u001b[38;5;28mself\u001b[39m\u001b[38;5;241m.\u001b[39mno \u001b[38;5;241m+\u001b[39m\u001b[38;5;241m=\u001b[39m\u001b[38;5;241m1\u001b[39m\n\u001b[1;32m---> 98\u001b[0m \u001b[38;5;28;43mself\u001b[39;49m\u001b[38;5;241;43m.\u001b[39;49m\u001b[43mQueryCopliot\u001b[49m\u001b[43m(\u001b[49m\u001b[43m)\u001b[49m\n",
      "Cell \u001b[1;32mIn[25], line 98\u001b[0m, in \u001b[0;36mCopliotPrompt.QueryCopliot\u001b[1;34m(self)\u001b[0m\n\u001b[0;32m     96\u001b[0m \u001b[38;5;28mprint\u001b[39m(\u001b[38;5;28mself\u001b[39m\u001b[38;5;241m.\u001b[39mno,tech_stack,\u001b[38;5;124m\"\u001b[39m\u001b[38;5;124mintro and learning links exported successfully.\u001b[39m\u001b[38;5;124m\"\u001b[39m)\n\u001b[0;32m     97\u001b[0m \u001b[38;5;28mself\u001b[39m\u001b[38;5;241m.\u001b[39mno \u001b[38;5;241m+\u001b[39m\u001b[38;5;241m=\u001b[39m\u001b[38;5;241m1\u001b[39m\n\u001b[1;32m---> 98\u001b[0m \u001b[38;5;28;43mself\u001b[39;49m\u001b[38;5;241;43m.\u001b[39;49m\u001b[43mQueryCopliot\u001b[49m\u001b[43m(\u001b[49m\u001b[43m)\u001b[49m\n",
      "    \u001b[1;31m[... skipping similar frames: CopliotPrompt.QueryCopliot at line 98 (7 times)]\u001b[0m\n",
      "Cell \u001b[1;32mIn[25], line 98\u001b[0m, in \u001b[0;36mCopliotPrompt.QueryCopliot\u001b[1;34m(self)\u001b[0m\n\u001b[0;32m     96\u001b[0m \u001b[38;5;28mprint\u001b[39m(\u001b[38;5;28mself\u001b[39m\u001b[38;5;241m.\u001b[39mno,tech_stack,\u001b[38;5;124m\"\u001b[39m\u001b[38;5;124mintro and learning links exported successfully.\u001b[39m\u001b[38;5;124m\"\u001b[39m)\n\u001b[0;32m     97\u001b[0m \u001b[38;5;28mself\u001b[39m\u001b[38;5;241m.\u001b[39mno \u001b[38;5;241m+\u001b[39m\u001b[38;5;241m=\u001b[39m\u001b[38;5;241m1\u001b[39m\n\u001b[1;32m---> 98\u001b[0m \u001b[38;5;28;43mself\u001b[39;49m\u001b[38;5;241;43m.\u001b[39;49m\u001b[43mQueryCopliot\u001b[49m\u001b[43m(\u001b[49m\u001b[43m)\u001b[49m\n",
      "Cell \u001b[1;32mIn[25], line 65\u001b[0m, in \u001b[0;36mCopliotPrompt.QueryCopliot\u001b[1;34m(self)\u001b[0m\n\u001b[0;32m     63\u001b[0m time\u001b[38;5;241m.\u001b[39msleep(\u001b[38;5;241m1\u001b[39m)\n\u001b[0;32m     64\u001b[0m input_shadow_dom2\u001b[38;5;241m.\u001b[39mfind_element(by\u001b[38;5;241m=\u001b[39mBy\u001b[38;5;241m.\u001b[39mCSS_SELECTOR, value\u001b[38;5;241m=\u001b[39m\u001b[38;5;124m\"\u001b[39m\u001b[38;5;124mbutton[aria-label=\u001b[39m\u001b[38;5;124m'\u001b[39m\u001b[38;5;124mSubmit\u001b[39m\u001b[38;5;124m'\u001b[39m\u001b[38;5;124m]\u001b[39m\u001b[38;5;124m\"\u001b[39m)\u001b[38;5;241m.\u001b[39mclick()\n\u001b[1;32m---> 65\u001b[0m \u001b[43mtime\u001b[49m\u001b[38;5;241;43m.\u001b[39;49m\u001b[43msleep\u001b[49m\u001b[43m(\u001b[49m\u001b[38;5;241;43m60\u001b[39;49m\u001b[43m)\u001b[49m\n\u001b[0;32m     66\u001b[0m response_shadow_dom2 \u001b[38;5;241m=\u001b[39m dom1\u001b[38;5;241m.\u001b[39mfind_element(by\u001b[38;5;241m=\u001b[39mBy\u001b[38;5;241m.\u001b[39mCSS_SELECTOR, value\u001b[38;5;241m=\u001b[39m\u001b[38;5;124m\"\u001b[39m\u001b[38;5;124m#cib-conversation-main\u001b[39m\u001b[38;5;124m\"\u001b[39m)\u001b[38;5;241m.\u001b[39mshadow_root\n\u001b[0;32m     67\u001b[0m response_shadow_dom3 \u001b[38;5;241m=\u001b[39m response_shadow_dom2\u001b[38;5;241m.\u001b[39mfind_element(by\u001b[38;5;241m=\u001b[39mBy\u001b[38;5;241m.\u001b[39mCSS_SELECTOR, value\u001b[38;5;241m=\u001b[39m\u001b[38;5;124m\"\u001b[39m\u001b[38;5;124mcib-chat-turn[serp-slot=\u001b[39m\u001b[38;5;124m'\u001b[39m\u001b[38;5;124mnone\u001b[39m\u001b[38;5;124m'\u001b[39m\u001b[38;5;124m]\u001b[39m\u001b[38;5;124m\"\u001b[39m)\u001b[38;5;241m.\u001b[39mshadow_root\n",
      "\u001b[1;31mKeyboardInterrupt\u001b[0m: "
     ]
    }
   ],
   "source": [
    "test = CopliotPrompt()\n",
    "test.Login(id,pw)\n"
   ]
  },
  {
   "cell_type": "code",
   "execution_count": null,
   "id": "0cfacf31-5f2b-40e0-96ca-8bb306d1cf80",
   "metadata": {},
   "outputs": [],
   "source": [
    "#22 & 33 redo"
   ]
  },
  {
   "cell_type": "code",
   "execution_count": null,
   "id": "44f0d61e-67a6-4e5d-adc1-654ed76a1825",
   "metadata": {},
   "outputs": [],
   "source": []
  }
 ],
 "metadata": {
  "kernelspec": {
   "display_name": "Python 3 (ipykernel)",
   "language": "python",
   "name": "python3"
  },
  "language_info": {
   "codemirror_mode": {
    "name": "ipython",
    "version": 3
   },
   "file_extension": ".py",
   "mimetype": "text/x-python",
   "name": "python",
   "nbconvert_exporter": "python",
   "pygments_lexer": "ipython3",
   "version": "3.10.13"
  }
 },
 "nbformat": 4,
 "nbformat_minor": 5
}
