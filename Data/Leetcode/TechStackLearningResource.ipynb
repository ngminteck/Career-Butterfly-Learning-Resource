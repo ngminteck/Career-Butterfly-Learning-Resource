{
 "cells": [
  {
   "cell_type": "code",
   "execution_count": 77,
   "id": "b27731b2-0e44-4b6a-a5ef-13c4055d05fd",
   "metadata": {},
   "outputs": [
    {
     "name": "stdout",
     "output_type": "stream",
     "text": [
      "Requirement already satisfied: seleniumbase in c:\\users\\ng_mi\\anaconda3\\lib\\site-packages (4.24.3)\n",
      "Requirement already satisfied: pip>=24.0 in c:\\users\\ng_mi\\anaconda3\\lib\\site-packages (from seleniumbase) (24.0)\n",
      "Requirement already satisfied: packaging>=23.2 in c:\\users\\ng_mi\\anaconda3\\lib\\site-packages (from seleniumbase) (23.2)\n",
      "Requirement already satisfied: wheel>=0.42.0 in c:\\users\\ng_mi\\anaconda3\\lib\\site-packages (from seleniumbase) (0.42.0)\n",
      "Requirement already satisfied: attrs>=23.2.0 in c:\\users\\ng_mi\\anaconda3\\lib\\site-packages (from seleniumbase) (23.2.0)\n",
      "Requirement already satisfied: certifi>=2024.2.2 in c:\\users\\ng_mi\\anaconda3\\lib\\site-packages (from seleniumbase) (2024.2.2)\n",
      "Requirement already satisfied: parse>=1.20.1 in c:\\users\\ng_mi\\anaconda3\\lib\\site-packages (from seleniumbase) (1.20.1)\n",
      "Requirement already satisfied: parse-type>=0.6.2 in c:\\users\\ng_mi\\anaconda3\\lib\\site-packages (from seleniumbase) (0.6.2)\n",
      "Requirement already satisfied: pyyaml>=6.0.1 in c:\\users\\ng_mi\\anaconda3\\lib\\site-packages (from seleniumbase) (6.0.1)\n",
      "Requirement already satisfied: six==1.16.0 in c:\\users\\ng_mi\\anaconda3\\lib\\site-packages (from seleniumbase) (1.16.0)\n",
      "Requirement already satisfied: idna==3.6 in c:\\users\\ng_mi\\anaconda3\\lib\\site-packages (from seleniumbase) (3.6)\n",
      "Requirement already satisfied: chardet==5.2.0 in c:\\users\\ng_mi\\anaconda3\\lib\\site-packages (from seleniumbase) (5.2.0)\n",
      "Requirement already satisfied: charset-normalizer==3.3.2 in c:\\users\\ng_mi\\anaconda3\\lib\\site-packages (from seleniumbase) (3.3.2)\n",
      "Requirement already satisfied: requests==2.31.0 in c:\\users\\ng_mi\\anaconda3\\lib\\site-packages (from seleniumbase) (2.31.0)\n",
      "Requirement already satisfied: pynose==1.5.0 in c:\\users\\ng_mi\\anaconda3\\lib\\site-packages (from seleniumbase) (1.5.0)\n",
      "Requirement already satisfied: sniffio==1.3.1 in c:\\users\\ng_mi\\anaconda3\\lib\\site-packages (from seleniumbase) (1.3.1)\n",
      "Requirement already satisfied: h11==0.14.0 in c:\\users\\ng_mi\\anaconda3\\lib\\site-packages (from seleniumbase) (0.14.0)\n",
      "Requirement already satisfied: outcome==1.3.0.post0 in c:\\users\\ng_mi\\anaconda3\\lib\\site-packages (from seleniumbase) (1.3.0.post0)\n",
      "Requirement already satisfied: trio-websocket==0.11.1 in c:\\users\\ng_mi\\anaconda3\\lib\\site-packages (from seleniumbase) (0.11.1)\n",
      "Requirement already satisfied: wsproto==1.2.0 in c:\\users\\ng_mi\\anaconda3\\lib\\site-packages (from seleniumbase) (1.2.0)\n",
      "Requirement already satisfied: cssselect==1.2.0 in c:\\users\\ng_mi\\anaconda3\\lib\\site-packages (from seleniumbase) (1.2.0)\n",
      "Requirement already satisfied: sortedcontainers==2.4.0 in c:\\users\\ng_mi\\anaconda3\\lib\\site-packages (from seleniumbase) (2.4.0)\n",
      "Requirement already satisfied: fasteners==0.19 in c:\\users\\ng_mi\\anaconda3\\lib\\site-packages (from seleniumbase) (0.19)\n",
      "Requirement already satisfied: execnet==2.0.2 in c:\\users\\ng_mi\\anaconda3\\lib\\site-packages (from seleniumbase) (2.0.2)\n",
      "Requirement already satisfied: iniconfig==2.0.0 in c:\\users\\ng_mi\\anaconda3\\lib\\site-packages (from seleniumbase) (2.0.0)\n",
      "Requirement already satisfied: py==1.11.0 in c:\\users\\ng_mi\\anaconda3\\lib\\site-packages (from seleniumbase) (1.11.0)\n",
      "Requirement already satisfied: pytest-html==2.0.1 in c:\\users\\ng_mi\\anaconda3\\lib\\site-packages (from seleniumbase) (2.0.1)\n",
      "Requirement already satisfied: pytest-ordering==0.6 in c:\\users\\ng_mi\\anaconda3\\lib\\site-packages (from seleniumbase) (0.6)\n",
      "Requirement already satisfied: pytest-rerunfailures==13.0 in c:\\users\\ng_mi\\anaconda3\\lib\\site-packages (from seleniumbase) (13.0)\n",
      "Requirement already satisfied: pytest-xdist==3.5.0 in c:\\users\\ng_mi\\anaconda3\\lib\\site-packages (from seleniumbase) (3.5.0)\n",
      "Requirement already satisfied: parameterized==0.9.0 in c:\\users\\ng_mi\\anaconda3\\lib\\site-packages (from seleniumbase) (0.9.0)\n",
      "Requirement already satisfied: sbvirtualdisplay==1.3.0 in c:\\users\\ng_mi\\anaconda3\\lib\\site-packages (from seleniumbase) (1.3.0)\n",
      "Requirement already satisfied: behave==1.2.6 in c:\\users\\ng_mi\\anaconda3\\lib\\site-packages (from seleniumbase) (1.2.6)\n",
      "Requirement already satisfied: beautifulsoup4==4.12.3 in c:\\users\\ng_mi\\anaconda3\\lib\\site-packages (from seleniumbase) (4.12.3)\n",
      "Requirement already satisfied: pygments==2.17.2 in c:\\users\\ng_mi\\anaconda3\\lib\\site-packages (from seleniumbase) (2.17.2)\n",
      "Requirement already satisfied: tabcompleter==1.3.0 in c:\\users\\ng_mi\\anaconda3\\lib\\site-packages (from seleniumbase) (1.3.0)\n",
      "Requirement already satisfied: pdbp==1.5.0 in c:\\users\\ng_mi\\anaconda3\\lib\\site-packages (from seleniumbase) (1.5.0)\n",
      "Requirement already satisfied: colorama==0.4.6 in c:\\users\\ng_mi\\anaconda3\\lib\\site-packages (from seleniumbase) (0.4.6)\n",
      "Requirement already satisfied: exceptiongroup==1.2.0 in c:\\users\\ng_mi\\anaconda3\\lib\\site-packages (from seleniumbase) (1.2.0)\n",
      "Requirement already satisfied: pyotp==2.9.0 in c:\\users\\ng_mi\\anaconda3\\lib\\site-packages (from seleniumbase) (2.9.0)\n",
      "Requirement already satisfied: mdurl==0.1.2 in c:\\users\\ng_mi\\anaconda3\\lib\\site-packages (from seleniumbase) (0.1.2)\n",
      "Requirement already satisfied: rich==13.7.1 in c:\\users\\ng_mi\\anaconda3\\lib\\site-packages (from seleniumbase) (13.7.1)\n",
      "Requirement already satisfied: pyreadline3==3.4.1 in c:\\users\\ng_mi\\anaconda3\\lib\\site-packages (from seleniumbase) (3.4.1)\n",
      "Requirement already satisfied: urllib3<2.3.0,>=1.26.18 in c:\\users\\ng_mi\\anaconda3\\lib\\site-packages (from seleniumbase) (1.26.18)\n",
      "Requirement already satisfied: setuptools>=69.1.1 in c:\\users\\ng_mi\\anaconda3\\lib\\site-packages (from seleniumbase) (69.1.1)\n",
      "Requirement already satisfied: filelock>=3.13.1 in c:\\users\\ng_mi\\anaconda3\\lib\\site-packages (from seleniumbase) (3.13.1)\n",
      "Requirement already satisfied: platformdirs>=4.2.0 in c:\\users\\ng_mi\\anaconda3\\lib\\site-packages (from seleniumbase) (4.2.0)\n",
      "Requirement already satisfied: typing-extensions>=4.10.0 in c:\\users\\ng_mi\\anaconda3\\lib\\site-packages (from seleniumbase) (4.10.0)\n",
      "Requirement already satisfied: trio==0.24.0 in c:\\users\\ng_mi\\anaconda3\\lib\\site-packages (from seleniumbase) (0.24.0)\n",
      "Requirement already satisfied: selenium==4.18.1 in c:\\users\\ng_mi\\anaconda3\\lib\\site-packages (from seleniumbase) (4.18.1)\n",
      "Requirement already satisfied: pluggy==1.4.0 in c:\\users\\ng_mi\\anaconda3\\lib\\site-packages (from seleniumbase) (1.4.0)\n",
      "Requirement already satisfied: pytest==8.0.2 in c:\\users\\ng_mi\\anaconda3\\lib\\site-packages (from seleniumbase) (8.0.2)\n",
      "Requirement already satisfied: pytest-metadata==3.1.1 in c:\\users\\ng_mi\\anaconda3\\lib\\site-packages (from seleniumbase) (3.1.1)\n",
      "Requirement already satisfied: soupsieve==2.5 in c:\\users\\ng_mi\\anaconda3\\lib\\site-packages (from seleniumbase) (2.5)\n",
      "Requirement already satisfied: markdown-it-py==3.0.0 in c:\\users\\ng_mi\\anaconda3\\lib\\site-packages (from seleniumbase) (3.0.0)\n",
      "Requirement already satisfied: tomli>=1.0.0 in c:\\users\\ng_mi\\anaconda3\\lib\\site-packages (from pytest==8.0.2->seleniumbase) (2.0.1)\n",
      "Requirement already satisfied: cffi>=1.14 in c:\\users\\ng_mi\\anaconda3\\lib\\site-packages (from trio==0.24.0->seleniumbase) (1.16.0)\n",
      "Requirement already satisfied: pycparser in c:\\users\\ng_mi\\anaconda3\\lib\\site-packages (from cffi>=1.14->trio==0.24.0->seleniumbase) (2.21)\n",
      "Requirement already satisfied: PySocks!=1.5.7,<2.0,>=1.5.6 in c:\\users\\ng_mi\\anaconda3\\lib\\site-packages (from urllib3[socks]<3,>=1.26->selenium==4.18.1->seleniumbase) (1.7.1)\n",
      "Requirement already satisfied: selenium in c:\\users\\ng_mi\\anaconda3\\lib\\site-packages (4.18.1)\n",
      "Requirement already satisfied: urllib3<3,>=1.26 in c:\\users\\ng_mi\\anaconda3\\lib\\site-packages (from urllib3[socks]<3,>=1.26->selenium) (1.26.18)\n",
      "Requirement already satisfied: trio~=0.17 in c:\\users\\ng_mi\\anaconda3\\lib\\site-packages (from selenium) (0.24.0)\n",
      "Requirement already satisfied: trio-websocket~=0.9 in c:\\users\\ng_mi\\anaconda3\\lib\\site-packages (from selenium) (0.11.1)\n",
      "Requirement already satisfied: certifi>=2021.10.8 in c:\\users\\ng_mi\\anaconda3\\lib\\site-packages (from selenium) (2024.2.2)"
     ]
    }
   ],
   "source": [
    "!pip install seleniumbase \n",
    "!pip install selenium"
   ]
  },
  {
   "cell_type": "code",
   "execution_count": 78,
   "id": "5c1d0efb-4345-4108-b637-918b6b0cabf8",
   "metadata": {},
   "outputs": [
    {
     "name": "stdout",
     "output_type": "stream",
     "text": [
      "\n",
      "Requirement already satisfied: typing_extensions>=4.9.0 in c:\\users\\ng_mi\\anaconda3\\lib\\site-packages (from selenium) (4.10.0)\n",
      "Requirement already satisfied: attrs>=20.1.0 in c:\\users\\ng_mi\\anaconda3\\lib\\site-packages (from trio~=0.17->selenium) (23.2.0)\n"
     ]
    }
   ],
   "source": [
    "from seleniumbase import Driver\n",
    "from seleniumbase import page_actions\n",
    "from selenium.webdriver.support.ui import WebDriverWait\n",
    "from selenium.webdriver.common.by import By\n",
    "from selenium.webdriver.support import expected_conditions as EC\n",
    "import os\n",
    "import requests\n",
    "import time\n",
    "import csv"
   ]
  },
  {
   "cell_type": "code",
   "execution_count": 79,
   "id": "1234421c-1125-4bdf-943e-fe10c9e2ab61",
   "metadata": {},
   "outputs": [
    {
     "name": "stdout",
     "output_type": "stream",
     "text": [
      "Requirement already satisfied: sortedcontainers in c:\\users\\ng_mi\\anaconda3\\lib\\site-packages (from trio~=0.17->selenium) (2.4.0)\n",
      "Requirement already satisfied: idna in c:\\users\\ng_mi\\anaconda3\\lib\\site-packages (from trio~=0.17->selenium) (3.6)\n",
      "Requirement already satisfied: outcome in c:\\users\\ng_mi\\anaconda3\\lib\\site-packages (from trio~=0.17->selenium) (1.3.0.post0)\n",
      "Requirement already satisfied: sniffio>=1.3.0 in c:\\users\\ng_mi\\anaconda3\\lib\\site-packages (from trio~=0.17->selenium) (1.3.1)"
     ]
    }
   ],
   "source": [
    "class CopliotPrompt:\n",
    "    def __init__(self):\n",
    "        self.driver = Driver(uc=True)\n",
    "        self.techstack_list=[]\n",
    "        self.no = 0\n",
    "\n",
    "    def Login(self,id,pw):\n",
    "        url = \"https://login.live.com/\"\n",
    "        self.driver.get(url)\n",
    "        time.sleep(3)\n",
    "        id_field = self.driver.find_element(by=By.XPATH, value=\"(//input[@id='i0116'])[1]\")\n",
    "        id_field.send_keys(id)\n",
    "        WebDriverWait(self.driver, 1).until(EC.element_to_be_clickable((By.XPATH, \"(//button[normalize-space()='Next'])[1]\"))).click()\n",
    "        time.sleep(2)\n",
    "        pw_field = self.driver.find_element(by=By.XPATH, value=\"(//input[@id='i0118'])[1]\")\n",
    "        pw_field.send_keys(pw)\n",
    "        WebDriverWait(self.driver, 1).until(EC.element_to_be_clickable((By.XPATH, \"(//button[normalize-space()='Sign in'])[1]\"))).click()\n",
    "        time.sleep(2)\n",
    "        self.GoToCopliot()\n",
    "\n",
    "    def GoToCopliot(self):\n",
    "        url = \"https://www.bing.com/search?q=Bing%20AI&showconv=1&form=MG0AUO\"\n",
    "        # go 3 time to bypass the popup\n",
    "        self.driver.get(url)\n",
    "        time.sleep(2)\n",
    "        self.driver.get(url)\n",
    "        time.sleep(2)\n",
    "        self.driver.get(url)\n",
    "        self.QueryCopliot()\n",
    "\n",
    "    def QueryCopliot(self):\n",
    "        first_query = \"What is \" + \"Python\" + \" in technology?\"\n",
    "        second_query = \"Where can i learn more about \" + \"Python\" + \" technology?\"\n",
    "        WebDriverWait(self.driver, 10).until(EC.element_to_be_clickable((By.CSS_SELECTOR, \"#searchbox\"))).click()\n",
    "        text_field = self.driver.find_element(by=By.CSS_SELECTOR, value=\"#searchbox\")\n",
    "        text_field.send_keys(first_query)\n",
    "    "
   ]
  },
  {
   "cell_type": "code",
   "execution_count": 80,
   "id": "f7f81c2a-bbdf-4582-be46-c69dc0f30ee8",
   "metadata": {},
   "outputs": [
    {
     "name": "stdout",
     "output_type": "stream",
     "text": [
      "\n",
      "Requirement already satisfied: cffi>=1.14 in c:\\users\\ng_mi\\anaconda3\\lib\\site-packages (from trio~=0.17->selenium) (1.16.0)\n",
      "Requirement already satisfied: exceptiongroup in c:\\users\\ng_mi\\anaconda3\\lib\\site-packages (from trio~=0.17->selenium) (1.2.0)\n",
      "Requirement already satisfied: wsproto>=0.14 in c:\\users\\ng_mi\\anaconda3\\lib\\site-packages (from trio-websocket~=0.9->selenium) (1.2.0)"
     ]
    }
   ],
   "source": [
    "id = \"NUS_ISS_MTECH_IS@OUTLOOK.COM\"\n",
    "pw = \"NUS-ISS-MTECH-IS\""
   ]
  },
  {
   "cell_type": "code",
   "execution_count": 81,
   "id": "db6afb27-155b-4221-85f4-fe63bb7b23f2",
   "metadata": {},
   "outputs": [
    {
     "name": "stdout",
     "output_type": "stream",
     "text": [
      "\n",
      "Requirement already satisfied: PySocks!=1.5.7,<2.0,>=1.5.6 in c:\\users\\ng_mi\\anaconda3\\lib\\site-packages (from urllib3[socks]<3,>=1.26->selenium) (1.7.1)\n",
      "Requirement already satisfied: pycparser in c:\\users\\ng_mi\\anaconda3\\lib\\site-packages (from cffi>=1.14->trio~=0.17->selenium) (2.21)\n",
      "Requirement already satisfied: h11<1,>=0.9.0 in c:\\users\\ng_mi\\anaconda3\\lib\\site-packages (from wsproto>=0.14->trio-websocket~=0.9->selenium) (0.14.0)\n"
     ]
    },
    {
     "ename": "TimeoutException",
     "evalue": "Message: \nStacktrace:\n\tGetHandleVerifier [0x00007FF6F07FAD22+56930]\n\t(No symbol) [0x00007FF6F076F622]\n\t(No symbol) [0x00007FF6F06242E5]\n\t(No symbol) [0x00007FF6F06698ED]\n\t(No symbol) [0x00007FF6F0669A2C]\n\t(No symbol) [0x00007FF6F06AA967]\n\t(No symbol) [0x00007FF6F068BCDF]\n\t(No symbol) [0x00007FF6F06A81E2]\n\t(No symbol) [0x00007FF6F068BA43]\n\t(No symbol) [0x00007FF6F065D438]\n\t(No symbol) [0x00007FF6F065E4D1]\n\tGetHandleVerifier [0x00007FF6F0B76AAD+3709933]\n\tGetHandleVerifier [0x00007FF6F0BCFFED+4075821]\n\tGetHandleVerifier [0x00007FF6F0BC817F+4043455]\n\tGetHandleVerifier [0x00007FF6F0899756+706710]\n\t(No symbol) [0x00007FF6F077B8FF]\n\t(No symbol) [0x00007FF6F0776AE4]\n\t(No symbol) [0x00007FF6F0776C3C]\n\t(No symbol) [0x00007FF6F07668F4]\n\tBaseThreadInitThunk [0x00007FFA8379257D+29]\n\tRtlUserThreadStart [0x00007FFA8486AA58+40]\n",
     "output_type": "error",
     "traceback": [
      "\u001b[1;31m---------------------------------------------------------------------------\u001b[0m",
      "\u001b[1;31mTimeoutException\u001b[0m                          Traceback (most recent call last)",
      "Cell \u001b[1;32mIn[81], line 2\u001b[0m\n\u001b[0;32m      1\u001b[0m test \u001b[38;5;241m=\u001b[39m CopliotPrompt()\n\u001b[1;32m----> 2\u001b[0m \u001b[43mtest\u001b[49m\u001b[38;5;241;43m.\u001b[39;49m\u001b[43mLogin\u001b[49m\u001b[43m(\u001b[49m\u001b[38;5;28;43mid\u001b[39;49m\u001b[43m,\u001b[49m\u001b[43mpw\u001b[49m\u001b[43m)\u001b[49m\n",
      "Cell \u001b[1;32mIn[79], line 19\u001b[0m, in \u001b[0;36mCopliotPrompt.Login\u001b[1;34m(self, id, pw)\u001b[0m\n\u001b[0;32m     17\u001b[0m WebDriverWait(\u001b[38;5;28mself\u001b[39m\u001b[38;5;241m.\u001b[39mdriver, \u001b[38;5;241m1\u001b[39m)\u001b[38;5;241m.\u001b[39muntil(EC\u001b[38;5;241m.\u001b[39melement_to_be_clickable((By\u001b[38;5;241m.\u001b[39mXPATH, \u001b[38;5;124m\"\u001b[39m\u001b[38;5;124m(//button[normalize-space()=\u001b[39m\u001b[38;5;124m'\u001b[39m\u001b[38;5;124mSign in\u001b[39m\u001b[38;5;124m'\u001b[39m\u001b[38;5;124m])[1]\u001b[39m\u001b[38;5;124m\"\u001b[39m)))\u001b[38;5;241m.\u001b[39mclick()\n\u001b[0;32m     18\u001b[0m time\u001b[38;5;241m.\u001b[39msleep(\u001b[38;5;241m2\u001b[39m)\n\u001b[1;32m---> 19\u001b[0m \u001b[38;5;28;43mself\u001b[39;49m\u001b[38;5;241;43m.\u001b[39;49m\u001b[43mGoToCopliot\u001b[49m\u001b[43m(\u001b[49m\u001b[43m)\u001b[49m\n",
      "Cell \u001b[1;32mIn[79], line 29\u001b[0m, in \u001b[0;36mCopliotPrompt.GoToCopliot\u001b[1;34m(self)\u001b[0m\n\u001b[0;32m     27\u001b[0m time\u001b[38;5;241m.\u001b[39msleep(\u001b[38;5;241m2\u001b[39m)\n\u001b[0;32m     28\u001b[0m \u001b[38;5;28mself\u001b[39m\u001b[38;5;241m.\u001b[39mdriver\u001b[38;5;241m.\u001b[39mget(url)\n\u001b[1;32m---> 29\u001b[0m \u001b[38;5;28;43mself\u001b[39;49m\u001b[38;5;241;43m.\u001b[39;49m\u001b[43mQueryCopliot\u001b[49m\u001b[43m(\u001b[49m\u001b[43m)\u001b[49m\n",
      "Cell \u001b[1;32mIn[79], line 34\u001b[0m, in \u001b[0;36mCopliotPrompt.QueryCopliot\u001b[1;34m(self)\u001b[0m\n\u001b[0;32m     32\u001b[0m first_query \u001b[38;5;241m=\u001b[39m \u001b[38;5;124m\"\u001b[39m\u001b[38;5;124mWhat is \u001b[39m\u001b[38;5;124m\"\u001b[39m \u001b[38;5;241m+\u001b[39m \u001b[38;5;124m\"\u001b[39m\u001b[38;5;124mPython\u001b[39m\u001b[38;5;124m\"\u001b[39m \u001b[38;5;241m+\u001b[39m \u001b[38;5;124m\"\u001b[39m\u001b[38;5;124m in technology?\u001b[39m\u001b[38;5;124m\"\u001b[39m\n\u001b[0;32m     33\u001b[0m second_query \u001b[38;5;241m=\u001b[39m \u001b[38;5;124m\"\u001b[39m\u001b[38;5;124mWhere can i learn more about \u001b[39m\u001b[38;5;124m\"\u001b[39m \u001b[38;5;241m+\u001b[39m \u001b[38;5;124m\"\u001b[39m\u001b[38;5;124mPython\u001b[39m\u001b[38;5;124m\"\u001b[39m \u001b[38;5;241m+\u001b[39m \u001b[38;5;124m\"\u001b[39m\u001b[38;5;124m technology?\u001b[39m\u001b[38;5;124m\"\u001b[39m\n\u001b[1;32m---> 34\u001b[0m \u001b[43mWebDriverWait\u001b[49m\u001b[43m(\u001b[49m\u001b[38;5;28;43mself\u001b[39;49m\u001b[38;5;241;43m.\u001b[39;49m\u001b[43mdriver\u001b[49m\u001b[43m,\u001b[49m\u001b[43m \u001b[49m\u001b[38;5;241;43m10\u001b[39;49m\u001b[43m)\u001b[49m\u001b[38;5;241;43m.\u001b[39;49m\u001b[43muntil\u001b[49m\u001b[43m(\u001b[49m\u001b[43mEC\u001b[49m\u001b[38;5;241;43m.\u001b[39;49m\u001b[43melement_to_be_clickable\u001b[49m\u001b[43m(\u001b[49m\u001b[43m(\u001b[49m\u001b[43mBy\u001b[49m\u001b[38;5;241;43m.\u001b[39;49m\u001b[43mCSS_SELECTOR\u001b[49m\u001b[43m,\u001b[49m\u001b[43m \u001b[49m\u001b[38;5;124;43m\"\u001b[39;49m\u001b[38;5;124;43m#searchbox\u001b[39;49m\u001b[38;5;124;43m\"\u001b[39;49m\u001b[43m)\u001b[49m\u001b[43m)\u001b[49m\u001b[43m)\u001b[49m\u001b[38;5;241m.\u001b[39mclick()\n\u001b[0;32m     35\u001b[0m text_field \u001b[38;5;241m=\u001b[39m \u001b[38;5;28mself\u001b[39m\u001b[38;5;241m.\u001b[39mdriver\u001b[38;5;241m.\u001b[39mfind_element(by\u001b[38;5;241m=\u001b[39mBy\u001b[38;5;241m.\u001b[39mCSS_SELECTOR, value\u001b[38;5;241m=\u001b[39m\u001b[38;5;124m\"\u001b[39m\u001b[38;5;124m#searchbox\u001b[39m\u001b[38;5;124m\"\u001b[39m)\n\u001b[0;32m     36\u001b[0m text_field\u001b[38;5;241m.\u001b[39msend_keys(first_query)\n",
      "File \u001b[1;32m~\\anaconda3\\lib\\site-packages\\selenium\\webdriver\\support\\wait.py:105\u001b[0m, in \u001b[0;36mWebDriverWait.until\u001b[1;34m(self, method, message)\u001b[0m\n\u001b[0;32m    103\u001b[0m     \u001b[38;5;28;01mif\u001b[39;00m time\u001b[38;5;241m.\u001b[39mmonotonic() \u001b[38;5;241m>\u001b[39m end_time:\n\u001b[0;32m    104\u001b[0m         \u001b[38;5;28;01mbreak\u001b[39;00m\n\u001b[1;32m--> 105\u001b[0m \u001b[38;5;28;01mraise\u001b[39;00m TimeoutException(message, screen, stacktrace)\n",
      "\u001b[1;31mTimeoutException\u001b[0m: Message: \nStacktrace:\n\tGetHandleVerifier [0x00007FF6F07FAD22+56930]\n\t(No symbol) [0x00007FF6F076F622]\n\t(No symbol) [0x00007FF6F06242E5]\n\t(No symbol) [0x00007FF6F06698ED]\n\t(No symbol) [0x00007FF6F0669A2C]\n\t(No symbol) [0x00007FF6F06AA967]\n\t(No symbol) [0x00007FF6F068BCDF]\n\t(No symbol) [0x00007FF6F06A81E2]\n\t(No symbol) [0x00007FF6F068BA43]\n\t(No symbol) [0x00007FF6F065D438]\n\t(No symbol) [0x00007FF6F065E4D1]\n\tGetHandleVerifier [0x00007FF6F0B76AAD+3709933]\n\tGetHandleVerifier [0x00007FF6F0BCFFED+4075821]\n\tGetHandleVerifier [0x00007FF6F0BC817F+4043455]\n\tGetHandleVerifier [0x00007FF6F0899756+706710]\n\t(No symbol) [0x00007FF6F077B8FF]\n\t(No symbol) [0x00007FF6F0776AE4]\n\t(No symbol) [0x00007FF6F0776C3C]\n\t(No symbol) [0x00007FF6F07668F4]\n\tBaseThreadInitThunk [0x00007FFA8379257D+29]\n\tRtlUserThreadStart [0x00007FFA8486AA58+40]\n"
     ]
    }
   ],
   "source": [
    "test = CopliotPrompt()\n",
    "test.Login(id,pw)"
   ]
  },
  {
   "cell_type": "code",
   "execution_count": null,
   "id": "551c4519-b54d-4ee2-bc32-48dd610d65c2",
   "metadata": {},
   "outputs": [],
   "source": []
  },
  {
   "cell_type": "code",
   "execution_count": null,
   "id": "4b03916b-1739-4785-9e07-53a8355ce847",
   "metadata": {},
   "outputs": [],
   "source": []
  }
 ],
 "metadata": {
  "kernelspec": {
   "display_name": "Python 3 (ipykernel)",
   "language": "python",
   "name": "python3"
  },
  "language_info": {
   "codemirror_mode": {
    "name": "ipython",
    "version": 3
   },
   "file_extension": ".py",
   "mimetype": "text/x-python",
   "name": "python",
   "nbconvert_exporter": "python",
   "pygments_lexer": "ipython3",
   "version": "3.10.13"
  }
 },
 "nbformat": 4,
 "nbformat_minor": 5
}
