{
 "cells": [
  {
   "cell_type": "code",
   "execution_count": 26,
   "id": "a8ac09ef-9287-4f45-86a4-2643598608aa",
   "metadata": {},
   "outputs": [
    {
     "name": "stdout",
     "output_type": "stream",
     "text": [
      "Requirement already satisfied: seleniumbase in c:\\users\\ng_mi\\anaconda3\\lib\\site-packages (4.24.3)\n",
      "Requirement already satisfied: pip>=24.0 in c:\\users\\ng_mi\\anaconda3\\lib\\site-packages (from seleniumbase) (24.0)\n",
      "Requirement already satisfied: packaging>=23.2 in c:\\users\\ng_mi\\anaconda3\\lib\\site-packages (from seleniumbase) (23.2)\n",
      "Requirement already satisfied: wheel>=0.42.0 in c:\\users\\ng_mi\\anaconda3\\lib\\site-packages (from seleniumbase) (0.42.0)\n",
      "Requirement already satisfied: attrs>=23.2.0 in c:\\users\\ng_mi\\anaconda3\\lib\\site-packages (from seleniumbase) (23.2.0)\n",
      "Requirement already satisfied: certifi>=2024.2.2 in c:\\users\\ng_mi\\anaconda3\\lib\\site-packages (from seleniumbase) (2024.2.2)\n",
      "Requirement already satisfied: parse>=1.20.1 in c:\\users\\ng_mi\\anaconda3\\lib\\site-packages (from seleniumbase) (1.20.1)\n",
      "Requirement already satisfied: parse-type>=0.6.2 in c:\\users\\ng_mi\\anaconda3\\lib\\site-packages (from seleniumbase) (0.6.2)\n",
      "Requirement already satisfied: pyyaml>=6.0.1 in c:\\users\\ng_mi\\anaconda3\\lib\\site-packages (from seleniumbase) (6.0.1)\n",
      "Requirement already satisfied: six==1.16.0 in c:\\users\\ng_mi\\anaconda3\\lib\\site-packages (from seleniumbase) (1.16.0)\n",
      "Requirement already satisfied: idna==3.6 in c:\\users\\ng_mi\\anaconda3\\lib\\site-packages (from seleniumbase) (3.6)\n",
      "Requirement already satisfied: chardet==5.2.0 in c:\\users\\ng_mi\\anaconda3\\lib\\site-packages (from seleniumbase) (5.2.0)\n",
      "Requirement already satisfied: charset-normalizer==3.3.2 in c:\\users\\ng_mi\\anaconda3\\lib\\site-packages (from seleniumbase) (3.3.2)\n",
      "Requirement already satisfied: requests==2.31.0 in c:\\users\\ng_mi\\anaconda3\\lib\\site-packages (from seleniumbase) (2.31.0)\n",
      "Requirement already satisfied: pynose==1.5.0 in c:\\users\\ng_mi\\anaconda3\\lib\\site-packages (from seleniumbase) (1.5.0)\n",
      "Requirement already satisfied: sniffio==1.3.1 in c:\\users\\ng_mi\\anaconda3\\lib\\site-packages (from seleniumbase) (1.3.1)\n",
      "Requirement already satisfied: h11==0.14.0 in c:\\users\\ng_mi\\anaconda3\\lib\\site-packages (from seleniumbase) (0.14.0)\n",
      "Requirement already satisfied: outcome==1.3.0.post0 in c:\\users\\ng_mi\\anaconda3\\lib\\site-packages (from seleniumbase) (1.3.0.post0)\n",
      "Requirement already satisfied: trio-websocket==0.11.1 in c:\\users\\ng_mi\\anaconda3\\lib\\site-packages (from seleniumbase) (0.11.1)\n",
      "Requirement already satisfied: wsproto==1.2.0 in c:\\users\\ng_mi\\anaconda3\\lib\\site-packages (from seleniumbase) (1.2.0)\n",
      "Requirement already satisfied: cssselect==1.2.0 in c:\\users\\ng_mi\\anaconda3\\lib\\site-packages (from seleniumbase) (1.2.0)\n",
      "Requirement already satisfied: sortedcontainers==2.4.0 in c:\\users\\ng_mi\\anaconda3\\lib\\site-packages (from seleniumbase) (2.4.0)\n",
      "Requirement already satisfied: fasteners==0.19 in c:\\users\\ng_mi\\anaconda3\\lib\\site-packages (from seleniumbase) (0.19)\n",
      "Requirement already satisfied: execnet==2.0.2 in c:\\users\\ng_mi\\anaconda3\\lib\\site-packages (from seleniumbase) (2.0.2)\n",
      "Requirement already satisfied: iniconfig==2.0.0 in c:\\users\\ng_mi\\anaconda3\\lib\\site-packages (from seleniumbase) (2.0.0)\n",
      "Requirement already satisfied: py==1.11.0 in c:\\users\\ng_mi\\anaconda3\\lib\\site-packages (from seleniumbase) (1.11.0)\n",
      "Requirement already satisfied: pytest-html==2.0.1 in c:\\users\\ng_mi\\anaconda3\\lib\\site-packages (from seleniumbase) (2.0.1)\n",
      "Requirement already satisfied: pytest-ordering==0.6 in c:\\users\\ng_mi\\anaconda3\\lib\\site-packages (from seleniumbase) (0.6)\n",
      "Requirement already satisfied: pytest-rerunfailures==13.0 in c:\\users\\ng_mi\\anaconda3\\lib\\site-packages (from seleniumbase) (13.0)\n",
      "Requirement already satisfied: pytest-xdist==3.5.0 in c:\\users\\ng_mi\\anaconda3\\lib\\site-packages (from seleniumbase) (3.5.0)\n",
      "Requirement already satisfied: parameterized==0.9.0 in c:\\users\\ng_mi\\anaconda3\\lib\\site-packages (from seleniumbase) (0.9.0)\n",
      "Requirement already satisfied: sbvirtualdisplay==1.3.0 in c:\\users\\ng_mi\\anaconda3\\lib\\site-packages (from seleniumbase) (1.3.0)\n",
      "Requirement already satisfied: behave==1.2.6 in c:\\users\\ng_mi\\anaconda3\\lib\\site-packages (from seleniumbase) (1.2.6)\n",
      "Requirement already satisfied: beautifulsoup4==4.12.3 in c:\\users\\ng_mi\\anaconda3\\lib\\site-packages (from seleniumbase) (4.12.3)\n",
      "Requirement already satisfied: pygments==2.17.2 in c:\\users\\ng_mi\\anaconda3\\lib\\site-packages (from seleniumbase) (2.17.2)\n",
      "Requirement already satisfied: tabcompleter==1.3.0 in c:\\users\\ng_mi\\anaconda3\\lib\\site-packages (from seleniumbase) (1.3.0)\n",
      "Requirement already satisfied: pdbp==1.5.0 in c:\\users\\ng_mi\\anaconda3\\lib\\site-packages (from seleniumbase) (1.5.0)\n",
      "Requirement already satisfied: colorama==0.4.6 in c:\\users\\ng_mi\\anaconda3\\lib\\site-packages (from seleniumbase) (0.4.6)\n",
      "Requirement already satisfied: exceptiongroup==1.2.0 in c:\\users\\ng_mi\\anaconda3\\lib\\site-packages (from seleniumbase) (1.2.0)\n",
      "Requirement already satisfied: pyotp==2.9.0 in c:\\users\\ng_mi\\anaconda3\\lib\\site-packages (from seleniumbase) (2.9.0)\n",
      "Requirement already satisfied: mdurl==0.1.2 in c:\\users\\ng_mi\\anaconda3\\lib\\site-packages (from seleniumbase) (0.1.2)\n",
      "Requirement already satisfied: rich==13.7.1 in c:\\users\\ng_mi\\anaconda3\\lib\\site-packages (from seleniumbase) (13.7.1)\n",
      "Requirement already satisfied: pyreadline3==3.4.1 in c:\\users\\ng_mi\\anaconda3\\lib\\site-packages (from seleniumbase) (3.4.1)\n",
      "Requirement already satisfied: urllib3<2.3.0,>=1.26.18 in c:\\users\\ng_mi\\anaconda3\\lib\\site-packages (from seleniumbase) (1.26.18)\n",
      "Requirement already satisfied: setuptools>=69.1.1 in c:\\users\\ng_mi\\anaconda3\\lib\\site-packages (from seleniumbase) (69.1.1)\n",
      "Requirement already satisfied: filelock>=3.13.1 in c:\\users\\ng_mi\\anaconda3\\lib\\site-packages (from seleniumbase) (3.13.1)\n",
      "Requirement already satisfied: platformdirs>=4.2.0 in c:\\users\\ng_mi\\anaconda3\\lib\\site-packages (from seleniumbase) (4.2.0)\n",
      "Requirement already satisfied: typing-extensions>=4.10.0 in c:\\users\\ng_mi\\anaconda3\\lib\\site-packages (from seleniumbase) (4.10.0)\n",
      "Requirement already satisfied: trio==0.24.0 in c:\\users\\ng_mi\\anaconda3\\lib\\site-packages (from seleniumbase) (0.24.0)\n",
      "Requirement already satisfied: selenium==4.18.1 in c:\\users\\ng_mi\\anaconda3\\lib\\site-packages (from seleniumbase) (4.18.1)\n",
      "Requirement already satisfied: pluggy==1.4.0 in c:\\users\\ng_mi\\anaconda3\\lib\\site-packages (from seleniumbase) (1.4.0)\n",
      "Requirement already satisfied: pytest==8.0.2 in c:\\users\\ng_mi\\anaconda3\\lib\\site-packages (from seleniumbase) (8.0.2)\n",
      "Requirement already satisfied: pytest-metadata==3.1.1 in c:\\users\\ng_mi\\anaconda3\\lib\\site-packages (from seleniumbase) (3.1.1)\n",
      "Requirement already satisfied: soupsieve==2.5 in c:\\users\\ng_mi\\anaconda3\\lib\\site-packages (from seleniumbase) (2.5)\n",
      "Requirement already satisfied: markdown-it-py==3.0.0 in c:\\users\\ng_mi\\anaconda3\\lib\\site-packages (from seleniumbase) (3.0.0)\n",
      "Requirement already satisfied: tomli>=1.0.0 in c:\\users\\ng_mi\\anaconda3\\lib\\site-packages (from pytest==8.0.2->seleniumbase) (2.0.1)\n",
      "Requirement already satisfied: cffi>=1.14 in c:\\users\\ng_mi\\anaconda3\\lib\\site-packages (from trio==0.24.0->seleniumbase) (1.16.0)\n",
      "Requirement already satisfied: pycparser in c:\\users\\ng_mi\\anaconda3\\lib\\site-packages (from cffi>=1.14->trio==0.24.0->seleniumbase) (2.21)\n",
      "Requirement already satisfied: PySocks!=1.5.7,<2.0,>=1.5.6 in c:\\users\\ng_mi\\anaconda3\\lib\\site-packages (from urllib3[socks]<3,>=1.26->selenium==4.18.1->seleniumbase) (1.7.1)\n",
      "Requirement already satisfied: selenium in c:\\users\\ng_mi\\anaconda3\\lib\\site-packages (4.18.1)\n",
      "Requirement already satisfied: urllib3<3,>=1.26 in c:\\users\\ng_mi\\anaconda3\\lib\\site-packages (from urllib3[socks]<3,>=1.26->selenium) (1.26.18)\n",
      "Requirement already satisfied: trio~=0.17 in c:\\users\\ng_mi\\anaconda3\\lib\\site-packages (from selenium) (0.24.0)\n",
      "Requirement already satisfied: trio-websocket~=0.9 in c:\\users\\ng_mi\\anaconda3\\lib\\site-packages (from selenium) (0.11.1)\n",
      "Requirement already satisfied: certifi>=2021.10.8 in c:\\users\\ng_mi\\anaconda3\\lib\\site-packages (from selenium) (2024.2.2)\n"
     ]
    }
   ],
   "source": [
    "!pip install seleniumbase \n",
    "!pip install selenium"
   ]
  },
  {
   "cell_type": "code",
   "execution_count": 27,
   "id": "f6857f54-bae8-461c-a4b8-07cbbb452843",
   "metadata": {},
   "outputs": [
    {
     "name": "stdout",
     "output_type": "stream",
     "text": [
      "Requirement already satisfied: typing_extensions>=4.9.0 in c:\\users\\ng_mi\\anaconda3\\lib\\site-packages (from selenium) (4.10.0)\n",
      "Requirement already satisfied: attrs>=20.1.0 in c:\\users\\ng_mi\\anaconda3\\lib\\site-packages (from trio~=0.17->selenium) (23.2.0)\n",
      "Requirement already satisfied: sortedcontainers in c:\\users\\ng_mi\\anaconda3\\lib\\site-packages (from trio~=0.17->selenium) (2.4.0)\n",
      "Requirement already satisfied: idna in c:\\users\\ng_mi\\anaconda3\\lib\\site-packages (from trio~=0.17->selenium) (3.6)\n"
     ]
    }
   ],
   "source": [
    "from seleniumbase import Driver\n",
    "from seleniumbase import page_actions\n",
    "from selenium.webdriver.support.ui import WebDriverWait\n",
    "from selenium.webdriver.common.by import By\n",
    "from selenium.webdriver.support import expected_conditions as EC\n",
    "import os\n",
    "import requests\n",
    "import time\n",
    "import csv"
   ]
  },
  {
   "cell_type": "code",
   "execution_count": 34,
   "id": "2984976b-aa88-406e-9b7b-b90244835f2a",
   "metadata": {},
   "outputs": [],
   "source": [
    "class LearningResource:\n",
    "    def __init__(self):\n",
    "        self.driver = Driver(uc=True)\n",
    "        self.tech_stack_list =[]\n",
    "\n",
    "    def GetAllTechStackKeyword(self):\n",
    "        url = \"https://nodeflair.com/jobs/\"\n",
    "        self.driver.get(url)\n",
    "        WebDriverWait(self.driver, 2).until(EC.element_to_be_clickable((By.CSS_SELECTOR, \"div[class='unselectedJobFiltersDiv-0-2-14'] div:nth-child(3)\"))).click()\n",
    "        time.sleep(1)\n",
    "        html = self.driver.page_source\n",
    "        with open('html_debug.txt', 'w',encoding=\"utf-8\") as f:\n",
    "            f.write(html)\n",
    "        f.close()\n",
    "\n",
    "        test = self.driver.find_element(by = By.CSS_SELECTOR, value=\"div[class='jobFilterSelect-0-2-164']\")\n",
    "        #\"jobFilterSelect-0-2-164_menu css-1mndiq5-menu\"\n",
    "      "
   ]
  },
  {
   "cell_type": "code",
   "execution_count": null,
   "id": "6634cbe3-1187-47fc-988c-5993e345fb3c",
   "metadata": {},
   "outputs": [],
   "source": [
    "test = LearningResource()\n",
    "test.GetAllTechStackKeyword()"
   ]
  },
  {
   "cell_type": "code",
   "execution_count": null,
   "id": "5d2334ee-e56f-4524-be79-854e328f871d",
   "metadata": {},
   "outputs": [],
   "source": []
  }
 ],
 "metadata": {
  "kernelspec": {
   "display_name": "Python 3 (ipykernel)",
   "language": "python",
   "name": "python3"
  },
  "language_info": {
   "codemirror_mode": {
    "name": "ipython",
    "version": 3
   },
   "file_extension": ".py",
   "mimetype": "text/x-python",
   "name": "python",
   "nbconvert_exporter": "python",
   "pygments_lexer": "ipython3",
   "version": "3.10.13"
  }
 },
 "nbformat": 4,
 "nbformat_minor": 5
}
