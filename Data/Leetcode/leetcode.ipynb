{
 "cells": [
  {
   "cell_type": "code",
   "execution_count": null,
   "id": "c57382f4-d817-4442-b389-5100a784bab9",
   "metadata": {},
   "outputs": [],
   "source": [
    "!pip install seleniumbase \n",
    "!pip install selenium"
   ]
  },
  {
   "cell_type": "code",
   "execution_count": 23,
   "id": "ac2907b7-a01b-4057-8674-40a856cc91b9",
   "metadata": {},
   "outputs": [],
   "source": [
    "from seleniumbase import Driver\n",
    "from seleniumbase import page_actions\n",
    "from selenium.webdriver.support.ui import WebDriverWait\n",
    "from selenium.webdriver.common.by import By\n",
    "from selenium.webdriver.support import expected_conditions as EC\n",
    "import requests\n",
    "import time"
   ]
  },
  {
   "cell_type": "code",
   "execution_count": 46,
   "id": "de4d4246-9078-4ce6-aeda-5c76d29d51d5",
   "metadata": {},
   "outputs": [],
   "source": [
    "class Leetcode:\n",
    "    def __init__(self):\n",
    "        self.driver = Driver(uc=True)\n",
    "        self.tag_list=[]\n",
    "        self.companies_list=[]\n",
    "\n",
    "    def Login(self,id,pw):\n",
    "        url = \"https://leetcode.com/accounts/login/\"\n",
    "        self.driver.get(url)\n",
    "        id_field = self.driver.find_element(by=By.ID, value=\"id_login\")\n",
    "        id_field.send_keys(id)\n",
    "        time.sleep(1)\n",
    "        pw_field = self.driver.find_element(by=By.ID, value=\"id_password\")\n",
    "        pw_field.send_keys(pw)\n",
    "        #no need check ctp\n",
    "        WebDriverWait(self.driver, 5).until(EC.element_to_be_clickable((By.ID, \"signin_btn\"))).click()\n",
    "        time.sleep(5)\n",
    "        self.GetAllTagAndCompaniesList()\n",
    "\n",
    "    def GetAllTagAndCompaniesList(self):\n",
    "        url = \"https://leetcode.com/problemset/\"\n",
    "        self.driver.get(url)\n",
    "        WebDriverWait(self.driver, 5).until(EC.element_to_be_clickable((By.XPATH, \"(//button[@id='headlessui-popover-button-:r5:'])[1]\"))).click()\n",
    "        WebDriverWait(self.driver, 2).until(EC.element_to_be_clickable((By.XPATH, \"(//div[@class='text-blue dark:text-dark-blue m-1 flex cursor-pointer items-center px-1'][normalize-space()='Expand'])[1]\"))).click()\n",
    "        tag_elements_parent = self.driver.find_element(by = By.XPATH, value=\"(//div[@class='-m-1 mt-1 flex max-h-[400px] flex-wrap overflow-auto py-4'])[1]\")\n",
    "        tag_elements = tag_elements_parent.find_elements(by = By.TAG_NAME, value=\"span\")\n",
    "        with open('tag.txt', 'w') as f:\n",
    "            for e in tag_elements:\n",
    "                self.tag_list.append(e.text)\n",
    "                f.write(e.text)\n",
    "                f.write('\\n')\n",
    "        f.close()\n",
    "        WebDriverWait(self.driver, 2).until(EC.element_to_be_clickable((By.XPATH, \"(//div[@class='text-sm leading-5 font-normal text-label-2 dark:text-dark-label-2'])[1]\"))).click()\n",
    "        WebDriverWait(self.driver, 2).until(EC.element_to_be_clickable((By.XPATH, \"(//div[contains(text(),'Expand')])[1]\"))).click()\n",
    "        companies_elements_parent = self.driver.find_element(by = By.XPATH, value=\"(//div[@class='-m-1 mt-1 flex max-h-[400px] flex-wrap overflow-auto py-4'])[2]\")\n",
    "        companies_elements = companies_elements_parent.find_elements(by = By.TAG_NAME, value=\"span\")\n",
    "        with open('companies.txt', 'w') as f:\n",
    "            for e in companies_elements:\n",
    "                self.companies_list.append(e.text)\n",
    "                f.write(e.text)\n",
    "                f.write('\\n')\n",
    "        f.close()\n",
    "        \n",
    "        "
   ]
  },
  {
   "cell_type": "code",
   "execution_count": 47,
   "id": "cd48395e-4741-4d6a-b1ca-1b9fe17e767f",
   "metadata": {},
   "outputs": [],
   "source": [
    "test = Leetcode()\n",
    "id = \"ng_min_teck@hotmail.com\"\n",
    "pw =\"NUS-ISS-MTECH-IS\"\n",
    "test.Login(id,pw)\n"
   ]
  },
  {
   "cell_type": "code",
   "execution_count": null,
   "id": "e1889622-36b1-4d48-b17e-b7a103427db1",
   "metadata": {},
   "outputs": [],
   "source": []
  },
  {
   "cell_type": "code",
   "execution_count": null,
   "id": "34d2b6cb-5f04-4e90-a39b-6ca149a44477",
   "metadata": {},
   "outputs": [],
   "source": []
  }
 ],
 "metadata": {
  "kernelspec": {
   "display_name": "Python 3 (ipykernel)",
   "language": "python",
   "name": "python3"
  },
  "language_info": {
   "codemirror_mode": {
    "name": "ipython",
    "version": 3
   },
   "file_extension": ".py",
   "mimetype": "text/x-python",
   "name": "python",
   "nbconvert_exporter": "python",
   "pygments_lexer": "ipython3",
   "version": "3.10.13"
  }
 },
 "nbformat": 4,
 "nbformat_minor": 5
}
