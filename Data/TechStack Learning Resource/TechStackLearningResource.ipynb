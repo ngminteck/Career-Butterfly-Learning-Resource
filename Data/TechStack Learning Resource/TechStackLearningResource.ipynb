{
 "cells": [
  {
   "cell_type": "code",
   "execution_count": 77,
   "id": "b27731b2-0e44-4b6a-a5ef-13c4055d05fd",
   "metadata": {},
   "outputs": [
    {
     "name": "stdout",
     "output_type": "stream",
     "text": [
      "Requirement already satisfied: seleniumbase in c:\\users\\ng_mi\\anaconda3\\lib\\site-packages (4.24.3)\n",
      "Requirement already satisfied: pip>=24.0 in c:\\users\\ng_mi\\anaconda3\\lib\\site-packages (from seleniumbase) (24.0)\n",
      "Requirement already satisfied: packaging>=23.2 in c:\\users\\ng_mi\\anaconda3\\lib\\site-packages (from seleniumbase) (23.2)\n",
      "Requirement already satisfied: wheel>=0.42.0 in c:\\users\\ng_mi\\anaconda3\\lib\\site-packages (from seleniumbase) (0.42.0)\n",
      "Requirement already satisfied: attrs>=23.2.0 in c:\\users\\ng_mi\\anaconda3\\lib\\site-packages (from seleniumbase) (23.2.0)\n",
      "Requirement already satisfied: certifi>=2024.2.2 in c:\\users\\ng_mi\\anaconda3\\lib\\site-packages (from seleniumbase) (2024.2.2)\n",
      "Requirement already satisfied: parse>=1.20.1 in c:\\users\\ng_mi\\anaconda3\\lib\\site-packages (from seleniumbase) (1.20.1)\n",
      "Requirement already satisfied: parse-type>=0.6.2 in c:\\users\\ng_mi\\anaconda3\\lib\\site-packages (from seleniumbase) (0.6.2)\n",
      "Requirement already satisfied: pyyaml>=6.0.1 in c:\\users\\ng_mi\\anaconda3\\lib\\site-packages (from seleniumbase) (6.0.1)\n",
      "Requirement already satisfied: six==1.16.0 in c:\\users\\ng_mi\\anaconda3\\lib\\site-packages (from seleniumbase) (1.16.0)\n",
      "Requirement already satisfied: idna==3.6 in c:\\users\\ng_mi\\anaconda3\\lib\\site-packages (from seleniumbase) (3.6)\n",
      "Requirement already satisfied: chardet==5.2.0 in c:\\users\\ng_mi\\anaconda3\\lib\\site-packages (from seleniumbase) (5.2.0)\n",
      "Requirement already satisfied: charset-normalizer==3.3.2 in c:\\users\\ng_mi\\anaconda3\\lib\\site-packages (from seleniumbase) (3.3.2)\n",
      "Requirement already satisfied: requests==2.31.0 in c:\\users\\ng_mi\\anaconda3\\lib\\site-packages (from seleniumbase) (2.31.0)\n",
      "Requirement already satisfied: pynose==1.5.0 in c:\\users\\ng_mi\\anaconda3\\lib\\site-packages (from seleniumbase) (1.5.0)\n",
      "Requirement already satisfied: sniffio==1.3.1 in c:\\users\\ng_mi\\anaconda3\\lib\\site-packages (from seleniumbase) (1.3.1)\n",
      "Requirement already satisfied: h11==0.14.0 in c:\\users\\ng_mi\\anaconda3\\lib\\site-packages (from seleniumbase) (0.14.0)\n",
      "Requirement already satisfied: outcome==1.3.0.post0 in c:\\users\\ng_mi\\anaconda3\\lib\\site-packages (from seleniumbase) (1.3.0.post0)\n",
      "Requirement already satisfied: trio-websocket==0.11.1 in c:\\users\\ng_mi\\anaconda3\\lib\\site-packages (from seleniumbase) (0.11.1)\n",
      "Requirement already satisfied: wsproto==1.2.0 in c:\\users\\ng_mi\\anaconda3\\lib\\site-packages (from seleniumbase) (1.2.0)\n",
      "Requirement already satisfied: cssselect==1.2.0 in c:\\users\\ng_mi\\anaconda3\\lib\\site-packages (from seleniumbase) (1.2.0)\n",
      "Requirement already satisfied: sortedcontainers==2.4.0 in c:\\users\\ng_mi\\anaconda3\\lib\\site-packages (from seleniumbase) (2.4.0)\n",
      "Requirement already satisfied: fasteners==0.19 in c:\\users\\ng_mi\\anaconda3\\lib\\site-packages (from seleniumbase) (0.19)\n",
      "Requirement already satisfied: execnet==2.0.2 in c:\\users\\ng_mi\\anaconda3\\lib\\site-packages (from seleniumbase) (2.0.2)\n",
      "Requirement already satisfied: iniconfig==2.0.0 in c:\\users\\ng_mi\\anaconda3\\lib\\site-packages (from seleniumbase) (2.0.0)\n",
      "Requirement already satisfied: py==1.11.0 in c:\\users\\ng_mi\\anaconda3\\lib\\site-packages (from seleniumbase) (1.11.0)\n",
      "Requirement already satisfied: pytest-html==2.0.1 in c:\\users\\ng_mi\\anaconda3\\lib\\site-packages (from seleniumbase) (2.0.1)\n",
      "Requirement already satisfied: pytest-ordering==0.6 in c:\\users\\ng_mi\\anaconda3\\lib\\site-packages (from seleniumbase) (0.6)\n",
      "Requirement already satisfied: pytest-rerunfailures==13.0 in c:\\users\\ng_mi\\anaconda3\\lib\\site-packages (from seleniumbase) (13.0)\n",
      "Requirement already satisfied: pytest-xdist==3.5.0 in c:\\users\\ng_mi\\anaconda3\\lib\\site-packages (from seleniumbase) (3.5.0)\n",
      "Requirement already satisfied: parameterized==0.9.0 in c:\\users\\ng_mi\\anaconda3\\lib\\site-packages (from seleniumbase) (0.9.0)\n",
      "Requirement already satisfied: sbvirtualdisplay==1.3.0 in c:\\users\\ng_mi\\anaconda3\\lib\\site-packages (from seleniumbase) (1.3.0)\n",
      "Requirement already satisfied: behave==1.2.6 in c:\\users\\ng_mi\\anaconda3\\lib\\site-packages (from seleniumbase) (1.2.6)\n",
      "Requirement already satisfied: beautifulsoup4==4.12.3 in c:\\users\\ng_mi\\anaconda3\\lib\\site-packages (from seleniumbase) (4.12.3)\n",
      "Requirement already satisfied: pygments==2.17.2 in c:\\users\\ng_mi\\anaconda3\\lib\\site-packages (from seleniumbase) (2.17.2)\n",
      "Requirement already satisfied: tabcompleter==1.3.0 in c:\\users\\ng_mi\\anaconda3\\lib\\site-packages (from seleniumbase) (1.3.0)\n",
      "Requirement already satisfied: pdbp==1.5.0 in c:\\users\\ng_mi\\anaconda3\\lib\\site-packages (from seleniumbase) (1.5.0)\n",
      "Requirement already satisfied: colorama==0.4.6 in c:\\users\\ng_mi\\anaconda3\\lib\\site-packages (from seleniumbase) (0.4.6)\n",
      "Requirement already satisfied: exceptiongroup==1.2.0 in c:\\users\\ng_mi\\anaconda3\\lib\\site-packages (from seleniumbase) (1.2.0)\n",
      "Requirement already satisfied: pyotp==2.9.0 in c:\\users\\ng_mi\\anaconda3\\lib\\site-packages (from seleniumbase) (2.9.0)\n",
      "Requirement already satisfied: mdurl==0.1.2 in c:\\users\\ng_mi\\anaconda3\\lib\\site-packages (from seleniumbase) (0.1.2)\n",
      "Requirement already satisfied: rich==13.7.1 in c:\\users\\ng_mi\\anaconda3\\lib\\site-packages (from seleniumbase) (13.7.1)\n",
      "Requirement already satisfied: pyreadline3==3.4.1 in c:\\users\\ng_mi\\anaconda3\\lib\\site-packages (from seleniumbase) (3.4.1)\n",
      "Requirement already satisfied: urllib3<2.3.0,>=1.26.18 in c:\\users\\ng_mi\\anaconda3\\lib\\site-packages (from seleniumbase) (1.26.18)\n",
      "Requirement already satisfied: setuptools>=69.1.1 in c:\\users\\ng_mi\\anaconda3\\lib\\site-packages (from seleniumbase) (69.1.1)\n",
      "Requirement already satisfied: filelock>=3.13.1 in c:\\users\\ng_mi\\anaconda3\\lib\\site-packages (from seleniumbase) (3.13.1)\n",
      "Requirement already satisfied: platformdirs>=4.2.0 in c:\\users\\ng_mi\\anaconda3\\lib\\site-packages (from seleniumbase) (4.2.0)\n",
      "Requirement already satisfied: typing-extensions>=4.10.0 in c:\\users\\ng_mi\\anaconda3\\lib\\site-packages (from seleniumbase) (4.10.0)\n",
      "Requirement already satisfied: trio==0.24.0 in c:\\users\\ng_mi\\anaconda3\\lib\\site-packages (from seleniumbase) (0.24.0)\n",
      "Requirement already satisfied: selenium==4.18.1 in c:\\users\\ng_mi\\anaconda3\\lib\\site-packages (from seleniumbase) (4.18.1)\n",
      "Requirement already satisfied: pluggy==1.4.0 in c:\\users\\ng_mi\\anaconda3\\lib\\site-packages (from seleniumbase) (1.4.0)\n",
      "Requirement already satisfied: pytest==8.0.2 in c:\\users\\ng_mi\\anaconda3\\lib\\site-packages (from seleniumbase) (8.0.2)\n",
      "Requirement already satisfied: pytest-metadata==3.1.1 in c:\\users\\ng_mi\\anaconda3\\lib\\site-packages (from seleniumbase) (3.1.1)\n",
      "Requirement already satisfied: soupsieve==2.5 in c:\\users\\ng_mi\\anaconda3\\lib\\site-packages (from seleniumbase) (2.5)\n",
      "Requirement already satisfied: markdown-it-py==3.0.0 in c:\\users\\ng_mi\\anaconda3\\lib\\site-packages (from seleniumbase) (3.0.0)\n",
      "Requirement already satisfied: tomli>=1.0.0 in c:\\users\\ng_mi\\anaconda3\\lib\\site-packages (from pytest==8.0.2->seleniumbase) (2.0.1)\n",
      "Requirement already satisfied: cffi>=1.14 in c:\\users\\ng_mi\\anaconda3\\lib\\site-packages (from trio==0.24.0->seleniumbase) (1.16.0)\n",
      "Requirement already satisfied: pycparser in c:\\users\\ng_mi\\anaconda3\\lib\\site-packages (from cffi>=1.14->trio==0.24.0->seleniumbase) (2.21)\n",
      "Requirement already satisfied: PySocks!=1.5.7,<2.0,>=1.5.6 in c:\\users\\ng_mi\\anaconda3\\lib\\site-packages (from urllib3[socks]<3,>=1.26->selenium==4.18.1->seleniumbase) (1.7.1)\n",
      "Requirement already satisfied: selenium in c:\\users\\ng_mi\\anaconda3\\lib\\site-packages (4.18.1)\n",
      "Requirement already satisfied: urllib3<3,>=1.26 in c:\\users\\ng_mi\\anaconda3\\lib\\site-packages (from urllib3[socks]<3,>=1.26->selenium) (1.26.18)\n",
      "Requirement already satisfied: trio~=0.17 in c:\\users\\ng_mi\\anaconda3\\lib\\site-packages (from selenium) (0.24.0)\n",
      "Requirement already satisfied: trio-websocket~=0.9 in c:\\users\\ng_mi\\anaconda3\\lib\\site-packages (from selenium) (0.11.1)\n",
      "Requirement already satisfied: certifi>=2021.10.8 in c:\\users\\ng_mi\\anaconda3\\lib\\site-packages (from selenium) (2024.2.2)"
     ]
    }
   ],
   "source": [
    "!pip install seleniumbase \n",
    "!pip install selenium"
   ]
  },
  {
   "cell_type": "code",
   "execution_count": 24,
   "id": "5c1d0efb-4345-4108-b637-918b6b0cabf8",
   "metadata": {},
   "outputs": [],
   "source": [
    "from seleniumbase import Driver\n",
    "from seleniumbase import page_actions\n",
    "from selenium.webdriver.support.ui import WebDriverWait\n",
    "from selenium.webdriver.common.by import By\n",
    "from selenium.webdriver.support import expected_conditions as EC\n",
    "import os\n",
    "import requests\n",
    "import time\n",
    "import csv"
   ]
  },
  {
   "cell_type": "code",
   "execution_count": 25,
   "id": "1234421c-1125-4bdf-943e-fe10c9e2ab61",
   "metadata": {
    "editable": true,
    "slideshow": {
     "slide_type": ""
    },
    "tags": []
   },
   "outputs": [],
   "source": [
    "class CopliotPrompt:\n",
    "    def __init__(self):\n",
    "        self.driver = Driver(uc=True)\n",
    "        self.techstack_list=[]\n",
    "        self.no = 0\n",
    "\n",
    "    def Login(self,id,pw):\n",
    "        url = \"https://login.live.com/\"\n",
    "        self.driver.get(url)\n",
    "        time.sleep(3)\n",
    "        id_field = self.driver.find_element(by=By.XPATH, value=\"(//input[@id='i0116'])[1]\")\n",
    "        id_field.send_keys(id)\n",
    "        WebDriverWait(self.driver, 1).until(EC.element_to_be_clickable((By.XPATH, \"(//button[normalize-space()='Next'])[1]\"))).click()\n",
    "        time.sleep(2)\n",
    "        pw_field = self.driver.find_element(by=By.XPATH, value=\"(//input[@id='i0118'])[1]\")\n",
    "        pw_field.send_keys(pw)\n",
    "        WebDriverWait(self.driver, 1).until(EC.element_to_be_clickable((By.XPATH, \"(//button[normalize-space()='Sign in'])[1]\"))).click()\n",
    "        time.sleep(2)\n",
    "        self.LoadTechStackList()\n",
    "\n",
    "    def LoadTechStackList(self):\n",
    "        cf = open(\"techstack.txt\", \"r\")\n",
    "        for c in cf:\n",
    "            c = c.replace(\"\\n\", \"\")\n",
    "            self.techstack_list.append(c)\n",
    "        cf.close\n",
    "        print(\"Done\")\n",
    "        #self.GoToCopliot()\n",
    "\n",
    "    def GoToCopliot(self):\n",
    "        url = \"https://www.bing.com/search?q=Bing%20AI&showconv=1&form=MG0AUO\"\n",
    "        # go 3 time to bypass the popup\n",
    "        self.driver.get(url)\n",
    "        time.sleep(2)\n",
    "        self.driver.get(url)\n",
    "        time.sleep(2)\n",
    "        self.driver.get(url)\n",
    "        time.sleep(2)\n",
    "        self.SaveResponse()\n",
    "\n",
    "    def SetNo(self, no):\n",
    "        self.no = no\n",
    "       \n",
    "    def QueryCopliot(self, query):\n",
    "        url = \"https://www.bing.com/search?q=Bing%20AI&showconv=1&form=MG0AUO\"\n",
    "        self.driver.get(url)\n",
    "        time.sleep(5)\n",
    "        dom1 = self.driver.find_element(by=By.CSS_SELECTOR, value=\".cib-serp-main\").shadow_root\n",
    "        input_shadow_dom2 = dom1.find_element(by=By.CSS_SELECTOR, value=\"#cib-action-bar-main\").shadow_root\n",
    "        input_shadow_dom3 = input_shadow_dom2.find_element(by=By.CSS_SELECTOR, value=\"cib-text-input[serp-slot='none']\").shadow_root\n",
    "        text_field = input_shadow_dom3.find_element(by=By.CSS_SELECTOR, value=\"#searchbox\")\n",
    "        text_field.send_keys(query)\n",
    "        time.sleep(1)\n",
    "        input_shadow_dom2.find_element(by=By.CSS_SELECTOR, value=\"button[aria-label='Submit']\").click()\n",
    "        time.sleep(60)\n",
    "        response_shadow_dom2 = dom1.find_element(by=By.CSS_SELECTOR, value=\"#cib-conversation-main\").shadow_root\n",
    "        response_shadow_dom3 = response_shadow_dom2.find_element(by=By.CSS_SELECTOR, value=\"cib-chat-turn[serp-slot='none']\").shadow_root\n",
    "        response_shadow_dom4 = response_shadow_dom3.find_element(by=By.CSS_SELECTOR, value=\".response-message-group\").shadow_root\n",
    "        response_shadow_dom5 = response_shadow_dom4.find_element(by=By.CSS_SELECTOR, value=\"cib-message:nth-child(2)\").shadow_root\n",
    "        response = response_shadow_dom5.find_element(by=By.CSS_SELECTOR, value=\"div[class='content']\")\n",
    "        return response.get_attribute(\"innerHTML\")\n",
    "        \n",
    "\n",
    "    def SaveResponse(self):\n",
    "      \n",
    "        if self.no < len(self.techstack_list):\n",
    "            tech_stack_with_category = self.techstack_list[self.no]\n",
    "            dest_folder =  tech_stack_with_category.rsplit('[', 1)[1]\n",
    "            dest_folder =  dest_folder.replace(']','')\n",
    "            if not os.path.exists(dest_folder):\n",
    "                os.makedirs(dest_folder)\n",
    "            tech_stack = tech_stack_with_category.rsplit('[', 1)[0]\n",
    "            tech_stack = tech_stack[:-1]\n",
    "            file_name = tech_stack + \".html\"\n",
    "            file_name = file_name.replace('\\\\',' ')\n",
    "            file_name = file_name.replace('/',' ')\n",
    "            file_path = os.path.join(dest_folder, file_name)\n",
    "            file_path = file_path.replace('\\\\','/')\n",
    "            tech_stack = tech_stack + \" \" + dest_folder\n",
    "            with open(file_path, 'w', encoding='utf-8') as f:  \n",
    "                query = \"What is \" + tech_stack + \" ?\"\n",
    "                response = self.QueryCopliot(query)\n",
    "                f.write(response)  \n",
    "                query = \"Where can i learn more about \" + tech_stack + \" ?\"\n",
    "                response = self.QueryCopliot(query)\n",
    "                f.write(response)     \n",
    "                f.close()\n",
    "            print(self.no,tech_stack,\"intro and learning links exported successfully.\")\n",
    "            self.no +=1\n",
    "            self.SaveResponse()\n",
    "    \n",
    "\n",
    "\n",
    "    "
   ]
  },
  {
   "cell_type": "code",
   "execution_count": 26,
   "id": "f7f81c2a-bbdf-4582-be46-c69dc0f30ee8",
   "metadata": {
    "editable": true,
    "slideshow": {
     "slide_type": ""
    },
    "tags": []
   },
   "outputs": [],
   "source": [
    "id = \"NUS_ISS_MTECH_IS@OUTLOOK.COM\"\n",
    "pw = \"NUS-ISS-MTECH-IS\""
   ]
  },
  {
   "cell_type": "code",
   "execution_count": 27,
   "id": "db6afb27-155b-4221-85f4-fe63bb7b23f2",
   "metadata": {
    "editable": true,
    "slideshow": {
     "slide_type": ""
    },
    "tags": []
   },
   "outputs": [
    {
     "name": "stdout",
     "output_type": "stream",
     "text": [
      "Done\n"
     ]
    }
   ],
   "source": [
    "test = CopliotPrompt()\n",
    "test.LoadTechStackList()\n"
   ]
  },
  {
   "cell_type": "code",
   "execution_count": 18,
   "id": "1390f77e-f2a0-4a81-b2f4-d6643185adb0",
   "metadata": {},
   "outputs": [],
   "source": [
    "# message queue\n",
    "\n",
    "# IAC\n",
    "# montioring tool\n",
    "\n",
    "# web api\n",
    "# jenkin\n",
    "# sdk\n",
    "#mojo programming"
   ]
  },
  {
   "cell_type": "code",
   "execution_count": 28,
   "id": "e573cf89-f586-4483-b094-bca5d151a147",
   "metadata": {},
   "outputs": [],
   "source": [
    "test.SetNo(297)"
   ]
  },
  {
   "cell_type": "code",
   "execution_count": 29,
   "id": "44f0d61e-67a6-4e5d-adc1-654ed76a1825",
   "metadata": {},
   "outputs": [
    {
     "ename": "NoSuchElementException",
     "evalue": "Message: no such element: Unable to locate element: {\"method\":\"css selector\",\"selector\":\".cib-serp-main\"}\n  (Session info: chrome=122.0.6261.112); For documentation on this error, please visit: https://www.selenium.dev/documentation/webdriver/troubleshooting/errors#no-such-element-exception\nStacktrace:\n\tGetHandleVerifier [0x00007FF7E817AD22+56930]\n\t(No symbol) [0x00007FF7E80EF622]\n\t(No symbol) [0x00007FF7E7FA42E5]\n\t(No symbol) [0x00007FF7E7FE98ED]\n\t(No symbol) [0x00007FF7E7FE9A2C]\n\t(No symbol) [0x00007FF7E802A967]\n\t(No symbol) [0x00007FF7E800BCDF]\n\t(No symbol) [0x00007FF7E80281E2]\n\t(No symbol) [0x00007FF7E800BA43]\n\t(No symbol) [0x00007FF7E7FDD438]\n\t(No symbol) [0x00007FF7E7FDE4D1]\n\tGetHandleVerifier [0x00007FF7E84F6AAD+3709933]\n\tGetHandleVerifier [0x00007FF7E854FFED+4075821]\n\tGetHandleVerifier [0x00007FF7E854817F+4043455]\n\tGetHandleVerifier [0x00007FF7E8219756+706710]\n\t(No symbol) [0x00007FF7E80FB8FF]\n\t(No symbol) [0x00007FF7E80F6AE4]\n\t(No symbol) [0x00007FF7E80F6C3C]\n\t(No symbol) [0x00007FF7E80E68F4]\n\tBaseThreadInitThunk [0x00007FFA8379257D+29]\n\tRtlUserThreadStart [0x00007FFA8486AA58+40]\n",
     "output_type": "error",
     "traceback": [
      "\u001b[1;31m---------------------------------------------------------------------------\u001b[0m",
      "\u001b[1;31mNoSuchElementException\u001b[0m                    Traceback (most recent call last)",
      "Cell \u001b[1;32mIn[29], line 1\u001b[0m\n\u001b[1;32m----> 1\u001b[0m \u001b[43mtest\u001b[49m\u001b[38;5;241;43m.\u001b[39;49m\u001b[43mSaveResponse\u001b[49m\u001b[43m(\u001b[49m\u001b[43m)\u001b[49m\n",
      "Cell \u001b[1;32mIn[25], line 82\u001b[0m, in \u001b[0;36mCopliotPrompt.SaveResponse\u001b[1;34m(self)\u001b[0m\n\u001b[0;32m     80\u001b[0m \u001b[38;5;28;01mwith\u001b[39;00m \u001b[38;5;28mopen\u001b[39m(file_path, \u001b[38;5;124m'\u001b[39m\u001b[38;5;124mw\u001b[39m\u001b[38;5;124m'\u001b[39m, encoding\u001b[38;5;241m=\u001b[39m\u001b[38;5;124m'\u001b[39m\u001b[38;5;124mutf-8\u001b[39m\u001b[38;5;124m'\u001b[39m) \u001b[38;5;28;01mas\u001b[39;00m f:  \n\u001b[0;32m     81\u001b[0m     query \u001b[38;5;241m=\u001b[39m \u001b[38;5;124m\"\u001b[39m\u001b[38;5;124mWhat is \u001b[39m\u001b[38;5;124m\"\u001b[39m \u001b[38;5;241m+\u001b[39m tech_stack \u001b[38;5;241m+\u001b[39m \u001b[38;5;124m\"\u001b[39m\u001b[38;5;124m ?\u001b[39m\u001b[38;5;124m\"\u001b[39m\n\u001b[1;32m---> 82\u001b[0m     response \u001b[38;5;241m=\u001b[39m \u001b[38;5;28;43mself\u001b[39;49m\u001b[38;5;241;43m.\u001b[39;49m\u001b[43mQueryCopliot\u001b[49m\u001b[43m(\u001b[49m\u001b[43mquery\u001b[49m\u001b[43m)\u001b[49m\n\u001b[0;32m     83\u001b[0m     f\u001b[38;5;241m.\u001b[39mwrite(response)  \n\u001b[0;32m     84\u001b[0m     query \u001b[38;5;241m=\u001b[39m \u001b[38;5;124m\"\u001b[39m\u001b[38;5;124mWhere can i learn more about \u001b[39m\u001b[38;5;124m\"\u001b[39m \u001b[38;5;241m+\u001b[39m tech_stack \u001b[38;5;241m+\u001b[39m \u001b[38;5;124m\"\u001b[39m\u001b[38;5;124m ?\u001b[39m\u001b[38;5;124m\"\u001b[39m\n",
      "Cell \u001b[1;32mIn[25], line 48\u001b[0m, in \u001b[0;36mCopliotPrompt.QueryCopliot\u001b[1;34m(self, query)\u001b[0m\n\u001b[0;32m     46\u001b[0m \u001b[38;5;28mself\u001b[39m\u001b[38;5;241m.\u001b[39mdriver\u001b[38;5;241m.\u001b[39mget(url)\n\u001b[0;32m     47\u001b[0m time\u001b[38;5;241m.\u001b[39msleep(\u001b[38;5;241m5\u001b[39m)\n\u001b[1;32m---> 48\u001b[0m dom1 \u001b[38;5;241m=\u001b[39m \u001b[38;5;28;43mself\u001b[39;49m\u001b[38;5;241;43m.\u001b[39;49m\u001b[43mdriver\u001b[49m\u001b[38;5;241;43m.\u001b[39;49m\u001b[43mfind_element\u001b[49m\u001b[43m(\u001b[49m\u001b[43mby\u001b[49m\u001b[38;5;241;43m=\u001b[39;49m\u001b[43mBy\u001b[49m\u001b[38;5;241;43m.\u001b[39;49m\u001b[43mCSS_SELECTOR\u001b[49m\u001b[43m,\u001b[49m\u001b[43m \u001b[49m\u001b[43mvalue\u001b[49m\u001b[38;5;241;43m=\u001b[39;49m\u001b[38;5;124;43m\"\u001b[39;49m\u001b[38;5;124;43m.cib-serp-main\u001b[39;49m\u001b[38;5;124;43m\"\u001b[39;49m\u001b[43m)\u001b[49m\u001b[38;5;241m.\u001b[39mshadow_root\n\u001b[0;32m     49\u001b[0m input_shadow_dom2 \u001b[38;5;241m=\u001b[39m dom1\u001b[38;5;241m.\u001b[39mfind_element(by\u001b[38;5;241m=\u001b[39mBy\u001b[38;5;241m.\u001b[39mCSS_SELECTOR, value\u001b[38;5;241m=\u001b[39m\u001b[38;5;124m\"\u001b[39m\u001b[38;5;124m#cib-action-bar-main\u001b[39m\u001b[38;5;124m\"\u001b[39m)\u001b[38;5;241m.\u001b[39mshadow_root\n\u001b[0;32m     50\u001b[0m input_shadow_dom3 \u001b[38;5;241m=\u001b[39m input_shadow_dom2\u001b[38;5;241m.\u001b[39mfind_element(by\u001b[38;5;241m=\u001b[39mBy\u001b[38;5;241m.\u001b[39mCSS_SELECTOR, value\u001b[38;5;241m=\u001b[39m\u001b[38;5;124m\"\u001b[39m\u001b[38;5;124mcib-text-input[serp-slot=\u001b[39m\u001b[38;5;124m'\u001b[39m\u001b[38;5;124mnone\u001b[39m\u001b[38;5;124m'\u001b[39m\u001b[38;5;124m]\u001b[39m\u001b[38;5;124m\"\u001b[39m)\u001b[38;5;241m.\u001b[39mshadow_root\n",
      "File \u001b[1;32m~\\anaconda3\\lib\\site-packages\\seleniumbase\\core\\sb_driver.py:20\u001b[0m, in \u001b[0;36mDriverMethods.find_element\u001b[1;34m(self, by, value)\u001b[0m\n\u001b[0;32m     18\u001b[0m \u001b[38;5;28;01melse\u001b[39;00m:\n\u001b[0;32m     19\u001b[0m     value, by \u001b[38;5;241m=\u001b[39m page_utils\u001b[38;5;241m.\u001b[39mswap_selector_and_by_if_reversed(value, by)\n\u001b[1;32m---> 20\u001b[0m \u001b[38;5;28;01mreturn\u001b[39;00m \u001b[38;5;28;43mself\u001b[39;49m\u001b[38;5;241;43m.\u001b[39;49m\u001b[43mdriver\u001b[49m\u001b[38;5;241;43m.\u001b[39;49m\u001b[43mdefault_find_element\u001b[49m\u001b[43m(\u001b[49m\u001b[43mby\u001b[49m\u001b[38;5;241;43m=\u001b[39;49m\u001b[43mby\u001b[49m\u001b[43m,\u001b[49m\u001b[43m \u001b[49m\u001b[43mvalue\u001b[49m\u001b[38;5;241;43m=\u001b[39;49m\u001b[43mvalue\u001b[49m\u001b[43m)\u001b[49m\n",
      "File \u001b[1;32m~\\anaconda3\\lib\\site-packages\\selenium\\webdriver\\remote\\webdriver.py:741\u001b[0m, in \u001b[0;36mWebDriver.find_element\u001b[1;34m(self, by, value)\u001b[0m\n\u001b[0;32m    738\u001b[0m     by \u001b[38;5;241m=\u001b[39m By\u001b[38;5;241m.\u001b[39mCSS_SELECTOR\n\u001b[0;32m    739\u001b[0m     value \u001b[38;5;241m=\u001b[39m \u001b[38;5;124mf\u001b[39m\u001b[38;5;124m'\u001b[39m\u001b[38;5;124m[name=\u001b[39m\u001b[38;5;124m\"\u001b[39m\u001b[38;5;132;01m{\u001b[39;00mvalue\u001b[38;5;132;01m}\u001b[39;00m\u001b[38;5;124m\"\u001b[39m\u001b[38;5;124m]\u001b[39m\u001b[38;5;124m'\u001b[39m\n\u001b[1;32m--> 741\u001b[0m \u001b[38;5;28;01mreturn\u001b[39;00m \u001b[38;5;28;43mself\u001b[39;49m\u001b[38;5;241;43m.\u001b[39;49m\u001b[43mexecute\u001b[49m\u001b[43m(\u001b[49m\u001b[43mCommand\u001b[49m\u001b[38;5;241;43m.\u001b[39;49m\u001b[43mFIND_ELEMENT\u001b[49m\u001b[43m,\u001b[49m\u001b[43m \u001b[49m\u001b[43m{\u001b[49m\u001b[38;5;124;43m\"\u001b[39;49m\u001b[38;5;124;43musing\u001b[39;49m\u001b[38;5;124;43m\"\u001b[39;49m\u001b[43m:\u001b[49m\u001b[43m \u001b[49m\u001b[43mby\u001b[49m\u001b[43m,\u001b[49m\u001b[43m \u001b[49m\u001b[38;5;124;43m\"\u001b[39;49m\u001b[38;5;124;43mvalue\u001b[39;49m\u001b[38;5;124;43m\"\u001b[39;49m\u001b[43m:\u001b[49m\u001b[43m \u001b[49m\u001b[43mvalue\u001b[49m\u001b[43m}\u001b[49m\u001b[43m)\u001b[49m[\u001b[38;5;124m\"\u001b[39m\u001b[38;5;124mvalue\u001b[39m\u001b[38;5;124m\"\u001b[39m]\n",
      "File \u001b[1;32m~\\anaconda3\\lib\\site-packages\\selenium\\webdriver\\remote\\webdriver.py:347\u001b[0m, in \u001b[0;36mWebDriver.execute\u001b[1;34m(self, driver_command, params)\u001b[0m\n\u001b[0;32m    345\u001b[0m response \u001b[38;5;241m=\u001b[39m \u001b[38;5;28mself\u001b[39m\u001b[38;5;241m.\u001b[39mcommand_executor\u001b[38;5;241m.\u001b[39mexecute(driver_command, params)\n\u001b[0;32m    346\u001b[0m \u001b[38;5;28;01mif\u001b[39;00m response:\n\u001b[1;32m--> 347\u001b[0m     \u001b[38;5;28;43mself\u001b[39;49m\u001b[38;5;241;43m.\u001b[39;49m\u001b[43merror_handler\u001b[49m\u001b[38;5;241;43m.\u001b[39;49m\u001b[43mcheck_response\u001b[49m\u001b[43m(\u001b[49m\u001b[43mresponse\u001b[49m\u001b[43m)\u001b[49m\n\u001b[0;32m    348\u001b[0m     response[\u001b[38;5;124m\"\u001b[39m\u001b[38;5;124mvalue\u001b[39m\u001b[38;5;124m\"\u001b[39m] \u001b[38;5;241m=\u001b[39m \u001b[38;5;28mself\u001b[39m\u001b[38;5;241m.\u001b[39m_unwrap_value(response\u001b[38;5;241m.\u001b[39mget(\u001b[38;5;124m\"\u001b[39m\u001b[38;5;124mvalue\u001b[39m\u001b[38;5;124m\"\u001b[39m, \u001b[38;5;28;01mNone\u001b[39;00m))\n\u001b[0;32m    349\u001b[0m     \u001b[38;5;28;01mreturn\u001b[39;00m response\n",
      "File \u001b[1;32m~\\anaconda3\\lib\\site-packages\\selenium\\webdriver\\remote\\errorhandler.py:229\u001b[0m, in \u001b[0;36mErrorHandler.check_response\u001b[1;34m(self, response)\u001b[0m\n\u001b[0;32m    227\u001b[0m         alert_text \u001b[38;5;241m=\u001b[39m value[\u001b[38;5;124m\"\u001b[39m\u001b[38;5;124malert\u001b[39m\u001b[38;5;124m\"\u001b[39m]\u001b[38;5;241m.\u001b[39mget(\u001b[38;5;124m\"\u001b[39m\u001b[38;5;124mtext\u001b[39m\u001b[38;5;124m\"\u001b[39m)\n\u001b[0;32m    228\u001b[0m     \u001b[38;5;28;01mraise\u001b[39;00m exception_class(message, screen, stacktrace, alert_text)  \u001b[38;5;66;03m# type: ignore[call-arg]  # mypy is not smart enough here\u001b[39;00m\n\u001b[1;32m--> 229\u001b[0m \u001b[38;5;28;01mraise\u001b[39;00m exception_class(message, screen, stacktrace)\n",
      "\u001b[1;31mNoSuchElementException\u001b[0m: Message: no such element: Unable to locate element: {\"method\":\"css selector\",\"selector\":\".cib-serp-main\"}\n  (Session info: chrome=122.0.6261.112); For documentation on this error, please visit: https://www.selenium.dev/documentation/webdriver/troubleshooting/errors#no-such-element-exception\nStacktrace:\n\tGetHandleVerifier [0x00007FF7E817AD22+56930]\n\t(No symbol) [0x00007FF7E80EF622]\n\t(No symbol) [0x00007FF7E7FA42E5]\n\t(No symbol) [0x00007FF7E7FE98ED]\n\t(No symbol) [0x00007FF7E7FE9A2C]\n\t(No symbol) [0x00007FF7E802A967]\n\t(No symbol) [0x00007FF7E800BCDF]\n\t(No symbol) [0x00007FF7E80281E2]\n\t(No symbol) [0x00007FF7E800BA43]\n\t(No symbol) [0x00007FF7E7FDD438]\n\t(No symbol) [0x00007FF7E7FDE4D1]\n\tGetHandleVerifier [0x00007FF7E84F6AAD+3709933]\n\tGetHandleVerifier [0x00007FF7E854FFED+4075821]\n\tGetHandleVerifier [0x00007FF7E854817F+4043455]\n\tGetHandleVerifier [0x00007FF7E8219756+706710]\n\t(No symbol) [0x00007FF7E80FB8FF]\n\t(No symbol) [0x00007FF7E80F6AE4]\n\t(No symbol) [0x00007FF7E80F6C3C]\n\t(No symbol) [0x00007FF7E80E68F4]\n\tBaseThreadInitThunk [0x00007FFA8379257D+29]\n\tRtlUserThreadStart [0x00007FFA8486AA58+40]\n"
     ]
    }
   ],
   "source": [
    "test.SaveResponse()"
   ]
  },
  {
   "cell_type": "code",
   "execution_count": null,
   "id": "428b34b5-cdd2-404a-a14f-7db23049af92",
   "metadata": {},
   "outputs": [],
   "source": [
    "test.SaveResponse()"
   ]
  },
  {
   "cell_type": "code",
   "execution_count": null,
   "id": "6c55febe-d166-425f-bd0b-536dd40dc637",
   "metadata": {},
   "outputs": [],
   "source": []
  }
 ],
 "metadata": {
  "kernelspec": {
   "display_name": "Python 3 (ipykernel)",
   "language": "python",
   "name": "python3"
  },
  "language_info": {
   "codemirror_mode": {
    "name": "ipython",
    "version": 3
   },
   "file_extension": ".py",
   "mimetype": "text/x-python",
   "name": "python",
   "nbconvert_exporter": "python",
   "pygments_lexer": "ipython3",
   "version": "3.10.13"
  }
 },
 "nbformat": 4,
 "nbformat_minor": 5
}
