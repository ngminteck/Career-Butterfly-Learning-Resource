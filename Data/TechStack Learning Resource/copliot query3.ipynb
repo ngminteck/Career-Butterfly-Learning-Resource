{
 "cells": [
  {
   "cell_type": "code",
   "execution_count": 1,
   "id": "5c1d0efb-4345-4108-b637-918b6b0cabf8",
   "metadata": {},
   "outputs": [],
   "source": [
    "from seleniumbase import Driver\n",
    "from seleniumbase import page_actions\n",
    "from selenium.webdriver.support.ui import WebDriverWait\n",
    "from selenium.webdriver.common.by import By\n",
    "from selenium.webdriver.support import expected_conditions as EC\n",
    "import os\n",
    "import requests\n",
    "import time\n",
    "import csv\n",
    "import pandas as pd\n",
    "import multiprocessing \n",
    "import threading\n",
    "import random\n",
    "import concurrent.futures"
   ]
  },
  {
   "cell_type": "code",
   "execution_count": 2,
   "id": "1234421c-1125-4bdf-943e-fe10c9e2ab61",
   "metadata": {
    "editable": true,
    "slideshow": {
     "slide_type": ""
    },
    "tags": []
   },
   "outputs": [],
   "source": [
    "class Copliot:\n",
    "    def __init__(self):\n",
    "        self.driver = Driver(uc=True)\n",
    "        self.query_dict_list = {}\n",
    "        self.queue = []\n",
    "        self.start =0\n",
    "        self.end = 0\n",
    "        self.InitQueryList()\n",
    "\n",
    "    def InitQueryList(self):   \n",
    "        df = pd.read_csv(\"skills.csv\", usecols=['Search Keyword', 'Resource Path'])\n",
    "        for index, row in df.iterrows():\n",
    "            key =  str(row['Search Keyword'])\n",
    "            value = str(row['Resource Path'])\n",
    "            if key is not self.query_dict_list:\n",
    "                self.query_dict_list[key]= value\n",
    "                self.queue.append(key)\n",
    "        df = pd.read_csv(\"groups.csv\", usecols=['Search Keyword', 'Resource Path'])\n",
    "        for index, row in df.iterrows():\n",
    "            key =  str(row['Search Keyword'])\n",
    "            value = str(row['Resource Path'])\n",
    "            if key is not self.query_dict_list:\n",
    "                self.query_dict_list[key]= value\n",
    "                self.queue.append(key) \n",
    "        self.end =len(self.queue)\n",
    "        print(self.end)\n",
    "        \n",
    "    def Login(self,id,pw):\n",
    "        url = \"https://login.live.com/\"\n",
    "        try:\n",
    "            t = random.uniform(0.0, 2.0)\n",
    "            print(t,\"\\n\")\n",
    "            time.sleep(t)\n",
    "            self.driver.get(url)\n",
    "            #time.sleep(3)\n",
    "            #id_field = self.driver.find_element(by=By.XPATH, value=\"(//input[@id='i0116'])[1]\")\n",
    "            #id_field.send_keys(id)\n",
    "            #WebDriverWait(self.driver, 1).until(EC.element_to_be_clickable((By.XPATH, \"(//button[normalize-space()='Next'])[1]\"))).click()\n",
    "            #time.sleep(2)\n",
    "            #pw_field = self.driver.find_element(by=By.XPATH, value=\"(//input[@id='i0118'])[1]\")\n",
    "            #pw_field.send_keys(pw)\n",
    "            #WebDriverWait(self.driver, 1).until(EC.element_to_be_clickable((By.XPATH, \"(//button[normalize-space()='Sign in'])[1]\"))).click()\n",
    "            #time.sleep(2)\n",
    "        except:\n",
    "            return False\n",
    "\n",
    "        return True\n",
    "        \n",
    "    def GoToCopliot(self):\n",
    "        url = \"https://www.bing.com/search?q=Bing%20AI&showconv=1&form=MG0AUO\"\n",
    "        # go 3 time to bypass the popup\n",
    "        self.driver.get(url)\n",
    "        time.sleep(2)\n",
    "        self.driver.get(url)\n",
    "        time.sleep(2)\n",
    "        return True\n",
    "\n",
    "    def QueryCopliot(self):\n",
    "        if self.start < self.end:\n",
    "            keyword = self.queue[self.start]\n",
    "            path = self.query_dict_list.get(keyword)\n",
    "            url = \"https://www.bing.com/search?q=Bing%20AI&showconv=1&form=MG0AUO\"\n",
    "            query = \"what is \"+ keyword +\" in one sentence and give me 5 reference links which I can learn for free.\" \n",
    "            dir = path.rsplit(\"/\")[0]\n",
    "            if not os.path.exists(dir):\n",
    "                os.makedirs(dir)\n",
    "            with open(path, 'w', encoding='utf-8') as file:\n",
    "                self.driver.get(url)\n",
    "                time.sleep(5)\n",
    "                dom1 = self.driver.find_element(by=By.CSS_SELECTOR, value=\".cib-serp-main\").shadow_root\n",
    "                input_shadow_dom2 = dom1.find_element(by=By.CSS_SELECTOR, value=\"#cib-action-bar-main\").shadow_root\n",
    "                input_shadow_dom3 = input_shadow_dom2.find_element(by=By.CSS_SELECTOR, value=\"cib-text-input[serp-slot='none']\").shadow_root\n",
    "                text_field = input_shadow_dom3.find_element(by=By.CSS_SELECTOR, value=\"#searchbox\")\n",
    "                text_field.send_keys(query)\n",
    "                time.sleep(1)\n",
    "                input_shadow_dom2.find_element(by=By.CSS_SELECTOR, value=\"button[aria-label='Submit']\").click()\n",
    "                time.sleep(30)\n",
    "                response_shadow_dom2 = dom1.find_element(by=By.CSS_SELECTOR, value=\"#cib-conversation-main\").shadow_root\n",
    "                response_shadow_dom3 = response_shadow_dom2.find_element(by=By.CSS_SELECTOR, value=\"cib-chat-turn[serp-slot='none']\").shadow_root\n",
    "                response_shadow_dom4 = response_shadow_dom3.find_element(by=By.CSS_SELECTOR, value=\".response-message-group\").shadow_root\n",
    "                response_shadow_dom5 = response_shadow_dom4.find_element(by=By.CSS_SELECTOR, value=\"cib-message:nth-child(2)\").shadow_root\n",
    "                response = response_shadow_dom5.find_element(by=By.CSS_SELECTOR, value=\"div[class='content']\")\n",
    "                content = response.get_attribute(\"innerHTML\")\n",
    "                file.write(content)  \n",
    "                file.close()\n",
    "                print(self.start,keyword,\"\\n\")\n",
    "            self.start += 1\n",
    "            self.QueryCopliot()\n",
    "              \n",
    "\n",
    "    def CloseDriver(self):\n",
    "        print(\"run\")\n",
    "        self.driver.Quit()\n",
    "                    \n",
    "       \n",
    "    \n",
    "\n",
    "\n",
    "    "
   ]
  },
  {
   "cell_type": "code",
   "execution_count": 3,
   "id": "55fa3ad8-0376-497f-abe0-81f64cf23f95",
   "metadata": {},
   "outputs": [
    {
     "name": "stdout",
     "output_type": "stream",
     "text": [
      "1504\n"
     ]
    }
   ],
   "source": [
    "test = Copliot()"
   ]
  },
  {
   "cell_type": "code",
   "execution_count": 13,
   "id": "1c51768f-6055-4a85-9355-5cd1e28baa21",
   "metadata": {},
   "outputs": [],
   "source": [
    "test.start = 750\n",
    "test.end = 751"
   ]
  },
  {
   "cell_type": "code",
   "execution_count": 14,
   "id": "9e5c4c0c-b8c9-4563-8506-9c2bd9af01d8",
   "metadata": {},
   "outputs": [
    {
     "name": "stdout",
     "output_type": "stream",
     "text": [
      "750 yaml format \n",
      "\n"
     ]
    }
   ],
   "source": [
    "test.QueryCopliot()"
   ]
  },
  {
   "cell_type": "code",
   "execution_count": null,
   "id": "6166268a-6163-433f-8164-8fb9dbe1a956",
   "metadata": {},
   "outputs": [],
   "source": []
  }
 ],
 "metadata": {
  "kernelspec": {
   "display_name": "Python 3 (ipykernel)",
   "language": "python",
   "name": "python3"
  },
  "language_info": {
   "codemirror_mode": {
    "name": "ipython",
    "version": 3
   },
   "file_extension": ".py",
   "mimetype": "text/x-python",
   "name": "python",
   "nbconvert_exporter": "python",
   "pygments_lexer": "ipython3",
   "version": "3.10.13"
  }
 },
 "nbformat": 4,
 "nbformat_minor": 5
}
