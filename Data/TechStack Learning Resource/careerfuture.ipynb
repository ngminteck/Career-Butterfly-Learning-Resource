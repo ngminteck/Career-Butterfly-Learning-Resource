{
 "cells": [
  {
   "cell_type": "code",
   "execution_count": 1,
   "id": "6be40fb4-1691-4157-904c-280a401e82bb",
   "metadata": {},
   "outputs": [],
   "source": [
    "from seleniumbase import Driver\n",
    "from seleniumbase import page_actions\n",
    "from selenium.webdriver.support.ui import WebDriverWait\n",
    "from selenium.webdriver.common.by import By\n",
    "from selenium.webdriver.support import expected_conditions as EC\n",
    "import os\n",
    "import requests\n",
    "import time\n",
    "import csv\n",
    "import pandas as pd\n",
    "import multiprocessing \n",
    "import threading\n",
    "import random"
   ]
  },
  {
   "cell_type": "code",
   "execution_count": 2,
   "id": "ae1538a5-6543-4019-a0cd-4ad9cf1eb44b",
   "metadata": {},
   "outputs": [],
   "source": [
    "class Careerfuture:\n",
    "    def __init__(self):\n",
    "        self.driver = Driver(uc=True)\n",
    "        self.links = []\n",
    "        self.tags = set()\n",
    "        self.Scrap()\n",
    "\n",
    "    def Scrap(self):\n",
    "        url = \"https://www.mycareersfuture.gov.sg/job/information-technology?sortBy=new_posting_date&page=\"\n",
    "        for i in range(10):\n",
    "            job_list_url = url + str(i)\n",
    "            self.driver.get(job_list_url)\n",
    "            time.sleep(1)\n",
    "            links = self.driver.find_elements(by = By.XPATH,value=\"(//a[@class='bg-white mb3 w-100 dib v-top pa3 no-underline flex-ns flex-wrap JobCard__card___22xP3'])\")\n",
    "            for l in links:\n",
    "                try:\n",
    "                    job_link = l.get_attribute(\"href\")\n",
    "                    self.links.append(job_link)\n",
    "                except:\n",
    "                    continue\n",
    "\n",
    "        for l in self.links:\n",
    "            self.driver.get(l)\n",
    "            time.sleep(1)\n",
    "            tags = self.driver.find_elements(by = By.XPATH,value= \"(//div[contains(@class,'pill-button dib ma1')])\")\n",
    "            for t in tags:\n",
    "                self.tags.add(t.text)\n",
    "                \n",
    "                \n",
    "        with open('sample skill.txt', 'w') as f:\n",
    "            for t in  self.tags:\n",
    "                f.write(t)\n",
    "                f.write(\"\\n\")\n",
    "            f.close()\n",
    "                \n",
    "                     \n",
    "\n",
    "                                           \n",
    "      "
   ]
  },
  {
   "cell_type": "code",
   "execution_count": 3,
   "id": "708e040d-c7bf-47e1-b345-137887fc6e03",
   "metadata": {},
   "outputs": [],
   "source": [
    "test = Careerfuture()"
   ]
  },
  {
   "cell_type": "code",
   "execution_count": null,
   "id": "65e0a3c2-cdc8-424d-9f92-4dea72d1c97d",
   "metadata": {},
   "outputs": [],
   "source": []
  }
 ],
 "metadata": {
  "kernelspec": {
   "display_name": "Python 3 (ipykernel)",
   "language": "python",
   "name": "python3"
  },
  "language_info": {
   "codemirror_mode": {
    "name": "ipython",
    "version": 3
   },
   "file_extension": ".py",
   "mimetype": "text/x-python",
   "name": "python",
   "nbconvert_exporter": "python",
   "pygments_lexer": "ipython3",
   "version": "3.10.13"
  }
 },
 "nbformat": 4,
 "nbformat_minor": 5
}
