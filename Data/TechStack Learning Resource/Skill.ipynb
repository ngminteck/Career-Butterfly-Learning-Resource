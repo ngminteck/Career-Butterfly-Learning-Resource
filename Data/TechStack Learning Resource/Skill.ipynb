{
 "cells": [
  {
   "cell_type": "code",
   "execution_count": null,
   "id": "a25ea2e0-da69-43df-ae53-d256c9ca2e45",
   "metadata": {},
   "outputs": [],
   "source": []
  },
  {
   "cell_type": "code",
   "execution_count": null,
   "id": "488066d5-b842-4fbe-9350-5056a0692885",
   "metadata": {},
   "outputs": [],
   "source": [
    "class Skill:\n",
    "    def __init__(self,filename,path,keyword,relationgrouplist,relationlist):\n",
    "        self.file_name = filename # for filename\n",
    "        self.resource_path = path # for the resource path\n",
    "        self.keyword_search = keyword # keyword for searching LLM\n",
    "        self.relation_list = relationlist # relation skill list, like prerequisite\n",
    "        self.group_list = relationgrouplist # group list for creating a group such as frontend programming related group, backend, ai, etc"
   ]
  },
  {
   "cell_type": "code",
   "execution_count": null,
   "id": "4b9b981e-d994-41b8-81d8-8ff213a69c73",
   "metadata": {},
   "outputs": [],
   "source": [
    "class TechStack:\n",
    "    def __init__(self):\n",
    "        self.skill_dict_list = {}\n",
    "        self.group_dict_list = {}\n",
    "        \n",
    "\n",
    "    def AddSkillDictList(self,name,path,keyword,relationgrouplist = [],relationlist= []):\n",
    "        filename = name\n",
    "        filename = filename.replace('/','-')\n",
    "        filename = filename.replace(\"\\\\\",'-')\n",
    "        skill_dict_list[name] = Skill(filename,path,keyword,relationlist,grouplist)\n",
    "        for gl in grouplist:\n",
    "            if gl in self.group_dict_list:\n",
    "                self.group_dict_list[gl].append(name)\n",
    "            else:\n",
    "                list = []\n",
    "                list.append(name)\n",
    "                self.group_dict_list[gl] = list\n",
    "                 \n",
    "\n",
    "            \n",
    "\n",
    "    "
   ]
  }
 ],
 "metadata": {
  "kernelspec": {
   "display_name": "Python 3 (ipykernel)",
   "language": "python",
   "name": "python3"
  },
  "language_info": {
   "codemirror_mode": {
    "name": "ipython",
    "version": 3
   },
   "file_extension": ".py",
   "mimetype": "text/x-python",
   "name": "python",
   "nbconvert_exporter": "python",
   "pygments_lexer": "ipython3",
   "version": "3.10.13"
  }
 },
 "nbformat": 4,
 "nbformat_minor": 5
}
