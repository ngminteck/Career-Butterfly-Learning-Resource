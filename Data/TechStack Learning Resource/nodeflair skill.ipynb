{
 "cells": [
  {
   "cell_type": "code",
   "execution_count": 5,
   "id": "b95b0094-ce73-4215-845a-216712c5ad98",
   "metadata": {},
   "outputs": [],
   "source": [
    "from seleniumbase import Driver\n",
    "from seleniumbase import page_actions\n",
    "from selenium.webdriver.support.ui import WebDriverWait\n",
    "from selenium.webdriver.common.by import By\n",
    "from selenium.webdriver.support import expected_conditions as EC\n",
    "import os\n",
    "import requests\n",
    "import time\n",
    "import csv\n",
    "import pandas as pd\n",
    "import multiprocessing \n",
    "import threading\n",
    "import random\n",
    "import concurrent.futures"
   ]
  },
  {
   "cell_type": "code",
   "execution_count": 6,
   "id": "0181d62d-f391-40cd-8e2a-bb2d05ff789e",
   "metadata": {},
   "outputs": [],
   "source": [
    "class Nodeflair:\n",
    "    def __init__(self):\n",
    "        self.driver = Driver(uc=True)\n",
    "    def Scrap(self):\n",
    "        with open('nodeflair skill.txt', 'w') as f:\n",
    "            skills = self.driver.find_elements(by = By.TAG_NAME,value=\"span\")\n",
    "            for s in skills:\n",
    "                f.write(s.text)\n",
    "                f.write(\"\\n\")\n",
    "            f.close()\n",
    "       "
   ]
  },
  {
   "cell_type": "code",
   "execution_count": 7,
   "id": "c8660a4c-1560-4956-806f-25dcd91d9f18",
   "metadata": {},
   "outputs": [],
   "source": [
    "test =Nodeflair()"
   ]
  },
  {
   "cell_type": "code",
   "execution_count": 8,
   "id": "2cbf3bf2-e3cf-4cb3-99c3-f11c50c86b2d",
   "metadata": {},
   "outputs": [],
   "source": [
    "test.Scrap()"
   ]
  },
  {
   "cell_type": "code",
   "execution_count": null,
   "id": "a6ff2e53-ff9f-449e-b58c-2583457482fd",
   "metadata": {},
   "outputs": [],
   "source": []
  }
 ],
 "metadata": {
  "kernelspec": {
   "display_name": "Python 3 (ipykernel)",
   "language": "python",
   "name": "python3"
  },
  "language_info": {
   "codemirror_mode": {
    "name": "ipython",
    "version": 3
   },
   "file_extension": ".py",
   "mimetype": "text/x-python",
   "name": "python",
   "nbconvert_exporter": "python",
   "pygments_lexer": "ipython3",
   "version": "3.10.13"
  }
 },
 "nbformat": 4,
 "nbformat_minor": 5
}
