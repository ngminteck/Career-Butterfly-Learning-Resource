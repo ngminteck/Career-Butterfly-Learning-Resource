{
 "cells": [
  {
   "cell_type": "code",
   "execution_count": 16,
   "id": "8199812a-9c77-49b4-a09c-65ea1eb1877e",
   "metadata": {},
   "outputs": [
    {
     "name": "stdout",
     "output_type": "stream",
     "text": [
      "Requirement already satisfied: bs4 in c:\\users\\ng_mi\\anaconda3\\lib\\site-packages (0.0.2)\n",
      "Requirement already satisfied: beautifulsoup4 in c:\\users\\ng_mi\\anaconda3\\lib\\site-packages (from bs4) (4.12.2)\n",
      "Requirement already satisfied: soupsieve>1.2 in c:\\users\\ng_mi\\anaconda3\\lib\\site-packages (from beautifulsoup4->bs4) (2.5)\n",
      "Requirement already satisfied: httpx in c:\\users\\ng_mi\\anaconda3\\lib\\site-packages (0.23.0)\n",
      "Requirement already satisfied: certifi in c:\\users\\ng_mi\\anaconda3\\lib\\site-packages (from httpx) (2023.11.17)\n",
      "Requirement already satisfied: sniffio in c:\\users\\ng_mi\\anaconda3\\lib\\site-packages (from httpx) (1.3.0)\n",
      "Requirement already satisfied: rfc3986<2,>=1.3 in c:\\users\\ng_mi\\anaconda3\\lib\\site-packages (from rfc3986[idna2008]<2,>=1.3->httpx) (1.4.0)\n",
      "Requirement already satisfied: httpcore<0.16.0,>=0.15.0 in c:\\users\\ng_mi\\anaconda3\\lib\\site-packages (from httpx) (0.15.0)\n",
      "Requirement already satisfied: h11<0.13,>=0.11 in c:\\users\\ng_mi\\anaconda3\\lib\\site-packages (from httpcore<0.16.0,>=0.15.0->httpx) (0.12.0)\n",
      "Requirement already satisfied: anyio==3.* in c:\\users\\ng_mi\\anaconda3\\lib\\site-packages (from httpcore<0.16.0,>=0.15.0->httpx) (3.5.0)\n",
      "Requirement already satisfied: idna>=2.8 in c:\\users\\ng_mi\\anaconda3\\lib\\site-packages (from anyio==3.*->httpcore<0.16.0,>=0.15.0->httpx) (3.4)\n",
      "Requirement already satisfied: requests in c:\\users\\ng_mi\\anaconda3\\lib\\site-packages (2.31.0)\n",
      "Requirement already satisfied: charset-normalizer<4,>=2 in c:\\users\\ng_mi\\anaconda3\\lib\\site-packages (from requests) (2.0.4)\n",
      "Requirement already satisfied: idna<4,>=2.5 in c:\\users\\ng_mi\\anaconda3\\lib\\site-packages (from requests) (3.4)\n",
      "Requirement already satisfied: urllib3<3,>=1.21.1 in c:\\users\\ng_mi\\anaconda3\\lib\\site-packages (from requests) (1.26.18)\n",
      "Requirement already satisfied: certifi>=2017.4.17 in c:\\users\\ng_mi\\anaconda3\\lib\\site-packages (from requests) (2023.11.17)\n"
     ]
    }
   ],
   "source": [
    "!pip install bs4\n",
    "!pip install requests"
   ]
  },
  {
   "cell_type": "code",
   "execution_count": 7,
   "id": "c604f425-5197-43a0-9528-030e4767e806",
   "metadata": {},
   "outputs": [],
   "source": [
    "import csv\n",
    "from datetime import datetime\n",
    "import requests\n",
    "from bs4 import BeautifulSoup"
   ]
  },
  {
   "cell_type": "code",
   "execution_count": 24,
   "id": "497cc44a-831b-48a2-ad24-a3b2dddcd3cf",
   "metadata": {},
   "outputs": [],
   "source": [
    "headers = {\n",
    "    'User-Agent': 'Mozilla/5.0 (Windows NT 10.0; Win64; x64) AppleWebKit/537.36 (KHTML, like Gecko) Chrome/109.0.0.0 Safari/537.36',\n",
    "}"
   ]
  },
  {
   "cell_type": "code",
   "execution_count": 25,
   "id": "58aeaf70-b41e-436d-866e-594e9704cb30",
   "metadata": {},
   "outputs": [],
   "source": [
    "proxy_url = \"https://spys.one/free-proxy-list/SG/\""
   ]
  },
  {
   "cell_type": "code",
   "execution_count": 26,
   "id": "cfc99fb5-0e0e-4431-80b4-591dec5dc58e",
   "metadata": {},
   "outputs": [
    {
     "data": {
      "text/plain": [
       "'https://spys.one/free-proxy-list/SG/'"
      ]
     },
     "execution_count": 26,
     "metadata": {},
     "output_type": "execute_result"
    }
   ],
   "source": [
    "proxy_url"
   ]
  },
  {
   "cell_type": "code",
   "execution_count": 27,
   "id": "2e025253-7fa1-424d-a825-0980bd55c8c6",
   "metadata": {},
   "outputs": [],
   "source": [
    "response = requests.get(proxy_url,headers=headers)"
   ]
  },
  {
   "cell_type": "code",
   "execution_count": 28,
   "id": "bf72f823-2432-40c0-b49f-f6455cd242e2",
   "metadata": {},
   "outputs": [
    {
     "data": {
      "text/plain": [
       "<Response [200]>"
      ]
     },
     "execution_count": 28,
     "metadata": {},
     "output_type": "execute_result"
    }
   ],
   "source": [
    "response"
   ]
  },
  {
   "cell_type": "code",
   "execution_count": 19,
   "id": "26ea2500-5bda-4171-b7ba-b4f0ca95eba5",
   "metadata": {},
   "outputs": [],
   "source": [
    "def GetURL(search, min_annual_amount ,day_ago):\n",
    "    return \"https://sg.indeed.com/jobs?q=\"+search+\"+$\"+str(min_annual_amount)+\"&l=Singapore&radius=10&fromage=\"+str(day_ago)\n"
   ]
  },
  {
   "cell_type": "code",
   "execution_count": 20,
   "id": "6bcec2cc-e315-4ee4-91fc-525879ad3cef",
   "metadata": {},
   "outputs": [],
   "source": [
    "url = GetURL(\"AI\",50000,7)"
   ]
  },
  {
   "cell_type": "code",
   "execution_count": 21,
   "id": "c8f7d175-64eb-46ea-9cf2-a5f6770aa8cd",
   "metadata": {},
   "outputs": [
    {
     "data": {
      "text/plain": [
       "'https://sg.indeed.com/jobs?q=AI+$50000&l=Singapore&radius=10&fromage=7'"
      ]
     },
     "execution_count": 21,
     "metadata": {},
     "output_type": "execute_result"
    }
   ],
   "source": [
    "url"
   ]
  },
  {
   "cell_type": "code",
   "execution_count": 22,
   "id": "b3152a9c-e1f8-4a34-80b2-8df3ef463d04",
   "metadata": {},
   "outputs": [],
   "source": [
    "response =requests.get(url)"
   ]
  },
  {
   "cell_type": "code",
   "execution_count": 23,
   "id": "5f6df206-6201-4fee-91d7-4e9b885f078c",
   "metadata": {},
   "outputs": [
    {
     "data": {
      "text/plain": [
       "<Response [403]>"
      ]
     },
     "execution_count": 23,
     "metadata": {},
     "output_type": "execute_result"
    }
   ],
   "source": [
    "response"
   ]
  },
  {
   "cell_type": "code",
   "execution_count": null,
   "id": "261f375e-c245-4d53-82f8-7a751c76d36a",
   "metadata": {},
   "outputs": [],
   "source": []
  }
 ],
 "metadata": {
  "kernelspec": {
   "display_name": "Python 3 (ipykernel)",
   "language": "python",
   "name": "python3"
  },
  "language_info": {
   "codemirror_mode": {
    "name": "ipython",
    "version": 3
   },
   "file_extension": ".py",
   "mimetype": "text/x-python",
   "name": "python",
   "nbconvert_exporter": "python",
   "pygments_lexer": "ipython3",
   "version": "3.8.12"
  }
 },
 "nbformat": 4,
 "nbformat_minor": 5
}
