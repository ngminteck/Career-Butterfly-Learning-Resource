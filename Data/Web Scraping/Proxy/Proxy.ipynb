{
 "cells": [
  {
   "cell_type": "code",
   "execution_count": 1,
   "id": "2708399b-eacc-4559-bcd9-a4511fb15162",
   "metadata": {},
   "outputs": [
    {
     "name": "stdout",
     "output_type": "stream",
     "text": [
      "Requirement already satisfied: bs4 in c:\\users\\ng_mi\\anaconda3\\lib\\site-packages (0.0.2)\n",
      "Requirement already satisfied: beautifulsoup4 in c:\\users\\ng_mi\\anaconda3\\lib\\site-packages (from bs4) (4.12.2)\n",
      "Requirement already satisfied: soupsieve>1.2 in c:\\users\\ng_mi\\anaconda3\\lib\\site-packages (from beautifulsoup4->bs4) (2.5)\n",
      "Requirement already satisfied: requests in c:\\users\\ng_mi\\anaconda3\\lib\\site-packages (2.31.0)\n",
      "Requirement already satisfied: charset-normalizer<4,>=2 in c:\\users\\ng_mi\\anaconda3\\lib\\site-packages (from requests) (2.0.4)\n",
      "Requirement already satisfied: idna<4,>=2.5 in c:\\users\\ng_mi\\anaconda3\\lib\\site-packages (from requests) (3.4)\n",
      "Requirement already satisfied: urllib3<3,>=1.21.1 in c:\\users\\ng_mi\\anaconda3\\lib\\site-packages (from requests) (1.26.18)\n",
      "Requirement already satisfied: certifi>=2017.4.17 in c:\\users\\ng_mi\\anaconda3\\lib\\site-packages (from requests) (2023.11.17)\n"
     ]
    }
   ],
   "source": [
    "!pip install bs4\n",
    "!pip install requests"
   ]
  },
  {
   "cell_type": "code",
   "execution_count": 48,
   "id": "0758203b-9d31-42b1-bbce-29186b856169",
   "metadata": {},
   "outputs": [],
   "source": [
    "import csv\n",
    "from datetime import datetime\n",
    "import requests\n",
    "from bs4 import BeautifulSoup\n",
    "import random\n"
   ]
  },
  {
   "cell_type": "code",
   "execution_count": 59,
   "id": "325be6d2-c43f-452b-824d-06f5ffeb36f5",
   "metadata": {},
   "outputs": [
    {
     "name": "stdout",
     "output_type": "stream",
     "text": [
      "Mozilla/5.0 (Macintosh; Intel Mac OS X 10_15_7) AppleWebKit/537.36 (KHTML, like Gecko) Chrome/108.0.0.0 Safari/537.36\n",
      "Mozilla/5.0 (Macintosh; Intel Mac OS X 10_15_7) AppleWebKit/537.36 (KHTML, like Gecko) Chrome/109.0.0.0 Safari/537.36\n",
      "Mozilla/5.0 (Macintosh; Intel Mac OS X 13_1) AppleWebKit/605.1.15 (KHTML, like Gecko) Version/16.1 Safari/605.1.15\n"
     ]
    }
   ],
   "source": [
    "user_agent_list = [ \n",
    "    'Mozilla/5.0 (Windows NT 10.0; Win64; x64) AppleWebKit/537.36 (KHTML, like Gecko) Chrome/109.0.0.0 Safari/537.36', \n",
    "    'Mozilla/5.0 (Macintosh; Intel Mac OS X 10_15_7) AppleWebKit/537.36 (KHTML, like Gecko) Chrome/109.0.0.0 Safari/537.36',\n",
    "    'Mozilla/5.0 (Windows NT 10.0; Win64; x64) AppleWebKit/537.36 (KHTML, like Gecko) Chrome/108.0.0.0 Safari/537.36',\n",
    "\t'Mozilla/5.0 (Macintosh; Intel Mac OS X 10_15_7) AppleWebKit/537.36 (KHTML, like Gecko) Chrome/108.0.0.0 Safari/537.36',\n",
    "    'Mozilla/5.0 (X11; Linux x86_64) AppleWebKit/537.36 (KHTML, like Gecko) Chrome/108.0.0.0 Safari/537.36',\n",
    "    'Mozilla/5.0 (Macintosh; Intel Mac OS X 10_15_7) AppleWebKit/605.1.15 (KHTML, like Gecko) Version/16.1 Safari/605.1.15',\n",
    "\t'Mozilla/5.0 (Macintosh; Intel Mac OS X 13_1) AppleWebKit/605.1.15 (KHTML, like Gecko) Version/16.1 Safari/605.1.15', \n",
    "]\n",
    "for i in range(0,3): \n",
    "    print(user_agent)\n",
    "    user_agent = random.choice(user_agent_list)"
   ]
  },
  {
   "cell_type": "code",
   "execution_count": 84,
   "id": "8305074c-99e1-4f86-9ef9-258bf3dc1331",
   "metadata": {},
   "outputs": [],
   "source": [
    "headers = {\n",
    "    'User-Agent': user_agent,\n",
    "}"
   ]
  },
  {
   "cell_type": "code",
   "execution_count": 85,
   "id": "adeac4a1-a989-469b-81f9-80a36f9c9d23",
   "metadata": {},
   "outputs": [],
   "source": [
    "url = \"https://spys.one/free-proxy-list/SG/\""
   ]
  },
  {
   "cell_type": "code",
   "execution_count": 86,
   "id": "a99923e2-133a-41da-b7ec-a582d495a40c",
   "metadata": {},
   "outputs": [
    {
     "data": {
      "text/plain": [
       "'https://spys.one/free-proxy-list/SG/'"
      ]
     },
     "execution_count": 86,
     "metadata": {},
     "output_type": "execute_result"
    }
   ],
   "source": [
    "url"
   ]
  },
  {
   "cell_type": "code",
   "execution_count": 87,
   "id": "74d7141d-c46d-4e37-ab36-c6f9dde47bb6",
   "metadata": {},
   "outputs": [],
   "source": [
    "response = requests.get(url,headers=headers)"
   ]
  },
  {
   "cell_type": "code",
   "execution_count": 88,
   "id": "f0121137-42ef-4204-9941-79e069099141",
   "metadata": {},
   "outputs": [
    {
     "data": {
      "text/plain": [
       "<Response [200]>"
      ]
     },
     "execution_count": 88,
     "metadata": {},
     "output_type": "execute_result"
    }
   ],
   "source": [
    "response"
   ]
  },
  {
   "cell_type": "code",
   "execution_count": 89,
   "id": "cb098fd7-5321-44f7-b521-2e665935e5bd",
   "metadata": {},
   "outputs": [
    {
     "data": {
      "text/plain": [
       "'OK'"
      ]
     },
     "execution_count": 89,
     "metadata": {},
     "output_type": "execute_result"
    }
   ],
   "source": [
    "response.reason"
   ]
  },
  {
   "cell_type": "code",
   "execution_count": 91,
   "id": "4f77f1f9-9770-4f05-8d4d-1b90f3efd102",
   "metadata": {},
   "outputs": [],
   "source": [
    "soup = BeautifulSoup(response.text, 'html.parser')"
   ]
  },
  {
   "cell_type": "code",
   "execution_count": 92,
   "id": "012d92bb-2d62-4314-9fa3-8f22e723ea0f",
   "metadata": {},
   "outputs": [
    {
     "data": {
      "text/plain": [
       "<tr class=\"spy1xx\"><td colspan=\"1\"></td><td colspan=\"2\"><font class=\"spy1\"><u>673</u> proxies</font></td><td colspan=\"6\"><font class=\"spy1\">Permanent link to this page: <a href=\"/free-proxy-list/SG/\"><font class=\"spy6\">https://spys.one/free-proxy-list/SG/</font></a></font></td></tr>"
      ]
     },
     "execution_count": 92,
     "metadata": {},
     "output_type": "execute_result"
    }
   ],
   "source": [
    "table_rows1 = soup.find_all('tr','spy1xx')\n",
    "table_rows1.pop(0)"
   ]
  },
  {
   "cell_type": "code",
   "execution_count": 93,
   "id": "f7b6dfa5-1711-46a7-832a-76254e0a9825",
   "metadata": {},
   "outputs": [
    {
     "data": {
      "text/plain": [
       "15"
      ]
     },
     "execution_count": 93,
     "metadata": {},
     "output_type": "execute_result"
    }
   ],
   "source": [
    "len(table_rows1)"
   ]
  },
  {
   "cell_type": "code",
   "execution_count": 94,
   "id": "e850a14c-5dc4-41d1-ad86-9f0ca9e557c9",
   "metadata": {},
   "outputs": [
    {
     "data": {
      "text/plain": [
       "<tr class=\"spy1x\"><td colspan=\"1\"><font class=\"spy2\">Proxy address:port</font></td><td colspan=\"1\"><font class=\"spy2\">Proxy type</font></td><td colspan=\"1\"><font class=\"spy2\">Anonymity*</font></td><td colspan=\"1\"><font class=\"spy2\">Country (city/region)</font></td><td colspan=\"1\"><font class=\"spy2\">Hostname/ORG</font></td><td colspan=\"1\"><font class=\"spy2\">Latency**</font></td><td colspan=\"1\"><font class=\"spy2\">Speed***</font></td><td colspan=\"1\"><font class=\"spy2\">Uptime</font></td><td colspan=\"1\"><font class=\"spy2\">Check date (GMT+03)</font></td></tr>"
      ]
     },
     "execution_count": 94,
     "metadata": {},
     "output_type": "execute_result"
    }
   ],
   "source": [
    "table_rows2 = soup.find_all('tr','spy1x')\n",
    "table_rows2.pop(0)"
   ]
  },
  {
   "cell_type": "code",
   "execution_count": 95,
   "id": "0097949c-1a06-49db-9f7c-db0e69803075",
   "metadata": {},
   "outputs": [
    {
     "data": {
      "text/plain": [
       "15"
      ]
     },
     "execution_count": 95,
     "metadata": {},
     "output_type": "execute_result"
    }
   ],
   "source": [
    "len(table_rows2)"
   ]
  },
  {
   "cell_type": "code",
   "execution_count": null,
   "id": "c5f07343-a810-4528-b6ac-e8ee25d2461c",
   "metadata": {},
   "outputs": [],
   "source": []
  }
 ],
 "metadata": {
  "kernelspec": {
   "display_name": "Python 3 (ipykernel)",
   "language": "python",
   "name": "python3"
  },
  "language_info": {
   "codemirror_mode": {
    "name": "ipython",
    "version": 3
   },
   "file_extension": ".py",
   "mimetype": "text/x-python",
   "name": "python",
   "nbconvert_exporter": "python",
   "pygments_lexer": "ipython3",
   "version": "3.8.12"
  }
 },
 "nbformat": 4,
 "nbformat_minor": 5
}
