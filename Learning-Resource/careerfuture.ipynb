{
 "cells": [
  {
   "cell_type": "code",
   "execution_count": 1,
   "id": "ae1538a5-6543-4019-a0cd-4ad9cf1eb44b",
   "metadata": {},
   "outputs": [],
   "source": [
    "from seleniumbase import Driver\n",
    "from seleniumbase import page_actions\n",
    "from selenium.webdriver.support.ui import WebDriverWait\n",
    "from selenium.webdriver.common.by import By\n",
    "from selenium.webdriver.support import expected_conditions as EC\n",
    "import os\n",
    "import requests\n",
    "import time\n",
    "import csv\n",
    "import pandas as pd\n",
    "import multiprocessing \n",
    "import threading\n",
    "import random\n",
    "class Careerfuture:\n",
    "    def __init__(self):\n",
    "        self.driver = Driver(uc=True)\n",
    "        self.links = []\n",
    "        self.tags = set()\n",
    "        self.Scrap()\n",
    "\n",
    "    def Scrap(self):\n",
    "        url = \"https://www.mycareersfuture.gov.sg/job/information-technology?sortBy=new_posting_date&page=\"\n",
    "        for i in range(100):\n",
    "            job_list_url = url + str(i)\n",
    "            self.driver.get(job_list_url)\n",
    "            time.sleep(1)\n",
    "            links = self.driver.find_elements(by = By.XPATH,value=\"(//a[@class='bg-white mb3 w-100 dib v-top pa3 no-underline flex-ns flex-wrap JobCard__card___22xP3'])\")\n",
    "            for l in links:\n",
    "                try:\n",
    "                    job_link = l.get_attribute(\"href\")\n",
    "                    self.links.append(job_link)\n",
    "                except:\n",
    "                    continue\n",
    "        with open(\"careerfuture.csv\", 'w', newline='',encoding='utf-8') as file:\n",
    "            writer = csv.writer(file)\n",
    "            writer.writerow([\"Description\",\"Tags\"])\n",
    "            for l in self.links:\n",
    "                self.driver.get(l)\n",
    "                time.sleep(1)\n",
    "                description_html = self.driver.find_element(by = By.CSS_SELECTOR,value= \".jobDescription.w-100.v-top.relative\")\n",
    "                description = description_html.text\n",
    "                tags_html = self.driver.find_elements(by = By.XPATH,value= \"(//div[contains(@class,'pill-button dib ma1')])\")\n",
    "                tags = \"\"\n",
    "                for t in tags_html:\n",
    "                    tag = \"[\" + t.text + \"]\"\n",
    "                    tags += tag\n",
    "                writer.writerow([description,tags])\n",
    "            file.close()\n",
    "                \n",
    "     \n",
    "                \n",
    "                     \n",
    "\n",
    "                                           \n",
    "      "
   ]
  },
  {
   "cell_type": "code",
   "execution_count": 2,
   "id": "708e040d-c7bf-47e1-b345-137887fc6e03",
   "metadata": {},
   "outputs": [
    {
     "ename": "NoSuchWindowException",
     "evalue": "Message: no such window: target window already closed\nfrom unknown error: web view not found\n  (Session info: chrome=123.0.6312.86)\nStacktrace:\n\tGetHandleVerifier [0x00007FF7BC327062+63090]\n\t(No symbol) [0x00007FF7BC292CB2]\n\t(No symbol) [0x00007FF7BC12EC65]\n\t(No symbol) [0x00007FF7BC10CA7C]\n\t(No symbol) [0x00007FF7BC19D687]\n\t(No symbol) [0x00007FF7BC1B2AC1]\n\t(No symbol) [0x00007FF7BC196D83]\n\t(No symbol) [0x00007FF7BC1683A8]\n\t(No symbol) [0x00007FF7BC169441]\n\tGetHandleVerifier [0x00007FF7BC7225CD+4238301]\n\tGetHandleVerifier [0x00007FF7BC75F72D+4488509]\n\tGetHandleVerifier [0x00007FF7BC757A0F+4456479]\n\tGetHandleVerifier [0x00007FF7BC4005A6+953270]\n\t(No symbol) [0x00007FF7BC29E57F]\n\t(No symbol) [0x00007FF7BC299254]\n\t(No symbol) [0x00007FF7BC29938B]\n\t(No symbol) [0x00007FF7BC289BC4]\n\tBaseThreadInitThunk [0x00007FFC3559257D+29]\n\tRtlUserThreadStart [0x00007FFC3690AA48+40]\n",
     "output_type": "error",
     "traceback": [
      "\u001b[1;31m---------------------------------------------------------------------------\u001b[0m",
      "\u001b[1;31mNoSuchWindowException\u001b[0m                     Traceback (most recent call last)",
      "Cell \u001b[1;32mIn[2], line 1\u001b[0m\n\u001b[1;32m----> 1\u001b[0m test \u001b[38;5;241m=\u001b[39m \u001b[43mCareerfuture\u001b[49m\u001b[43m(\u001b[49m\u001b[43m)\u001b[49m\n",
      "Cell \u001b[1;32mIn[1], line 19\u001b[0m, in \u001b[0;36mCareerfuture.__init__\u001b[1;34m(self)\u001b[0m\n\u001b[0;32m     17\u001b[0m \u001b[38;5;28mself\u001b[39m\u001b[38;5;241m.\u001b[39mlinks \u001b[38;5;241m=\u001b[39m []\n\u001b[0;32m     18\u001b[0m \u001b[38;5;28mself\u001b[39m\u001b[38;5;241m.\u001b[39mtags \u001b[38;5;241m=\u001b[39m \u001b[38;5;28mset\u001b[39m()\n\u001b[1;32m---> 19\u001b[0m \u001b[38;5;28;43mself\u001b[39;49m\u001b[38;5;241;43m.\u001b[39;49m\u001b[43mScrap\u001b[49m\u001b[43m(\u001b[49m\u001b[43m)\u001b[49m\n",
      "Cell \u001b[1;32mIn[1], line 25\u001b[0m, in \u001b[0;36mCareerfuture.Scrap\u001b[1;34m(self)\u001b[0m\n\u001b[0;32m     23\u001b[0m \u001b[38;5;28;01mfor\u001b[39;00m i \u001b[38;5;129;01min\u001b[39;00m \u001b[38;5;28mrange\u001b[39m(\u001b[38;5;241m100\u001b[39m):\n\u001b[0;32m     24\u001b[0m     job_list_url \u001b[38;5;241m=\u001b[39m url \u001b[38;5;241m+\u001b[39m \u001b[38;5;28mstr\u001b[39m(i)\n\u001b[1;32m---> 25\u001b[0m     \u001b[38;5;28;43mself\u001b[39;49m\u001b[38;5;241;43m.\u001b[39;49m\u001b[43mdriver\u001b[49m\u001b[38;5;241;43m.\u001b[39;49m\u001b[43mget\u001b[49m\u001b[43m(\u001b[49m\u001b[43mjob_list_url\u001b[49m\u001b[43m)\u001b[49m\n\u001b[0;32m     26\u001b[0m     time\u001b[38;5;241m.\u001b[39msleep(\u001b[38;5;241m1\u001b[39m)\n\u001b[0;32m     27\u001b[0m     links \u001b[38;5;241m=\u001b[39m \u001b[38;5;28mself\u001b[39m\u001b[38;5;241m.\u001b[39mdriver\u001b[38;5;241m.\u001b[39mfind_elements(by \u001b[38;5;241m=\u001b[39m By\u001b[38;5;241m.\u001b[39mXPATH,value\u001b[38;5;241m=\u001b[39m\u001b[38;5;124m\"\u001b[39m\u001b[38;5;124m(//a[@class=\u001b[39m\u001b[38;5;124m'\u001b[39m\u001b[38;5;124mbg-white mb3 w-100 dib v-top pa3 no-underline flex-ns flex-wrap JobCard__card___22xP3\u001b[39m\u001b[38;5;124m'\u001b[39m\u001b[38;5;124m])\u001b[39m\u001b[38;5;124m\"\u001b[39m)\n",
      "File \u001b[1;32m~\\anaconda3\\lib\\site-packages\\seleniumbase\\core\\browser_launcher.py:3709\u001b[0m, in \u001b[0;36mget_local_driver.<locals>.<lambda>\u001b[1;34m(url)\u001b[0m\n\u001b[0;32m   3707\u001b[0m driver\u001b[38;5;241m.\u001b[39mdefault_get \u001b[38;5;241m=\u001b[39m driver\u001b[38;5;241m.\u001b[39mget  \u001b[38;5;66;03m# Save copy of original\u001b[39;00m\n\u001b[0;32m   3708\u001b[0m \u001b[38;5;28;01mif\u001b[39;00m uc_activated:\n\u001b[1;32m-> 3709\u001b[0m     driver\u001b[38;5;241m.\u001b[39mget \u001b[38;5;241m=\u001b[39m \u001b[38;5;28;01mlambda\u001b[39;00m url: \u001b[43muc_special_open_if_cf\u001b[49m\u001b[43m(\u001b[49m\n\u001b[0;32m   3710\u001b[0m \u001b[43m        \u001b[49m\u001b[43mdriver\u001b[49m\u001b[43m,\u001b[49m\n\u001b[0;32m   3711\u001b[0m \u001b[43m        \u001b[49m\u001b[43murl\u001b[49m\u001b[43m,\u001b[49m\n\u001b[0;32m   3712\u001b[0m \u001b[43m        \u001b[49m\u001b[43mproxy_string\u001b[49m\u001b[43m,\u001b[49m\n\u001b[0;32m   3713\u001b[0m \u001b[43m        \u001b[49m\u001b[43mmobile_emulator\u001b[49m\u001b[43m,\u001b[49m\n\u001b[0;32m   3714\u001b[0m \u001b[43m        \u001b[49m\u001b[43mdevice_width\u001b[49m\u001b[43m,\u001b[49m\n\u001b[0;32m   3715\u001b[0m \u001b[43m        \u001b[49m\u001b[43mdevice_height\u001b[49m\u001b[43m,\u001b[49m\n\u001b[0;32m   3716\u001b[0m \u001b[43m        \u001b[49m\u001b[43mdevice_pixel_ratio\u001b[49m\u001b[43m,\u001b[49m\n\u001b[0;32m   3717\u001b[0m \u001b[43m    \u001b[49m\u001b[43m)\u001b[49m\n\u001b[0;32m   3718\u001b[0m     driver\u001b[38;5;241m.\u001b[39muc_open \u001b[38;5;241m=\u001b[39m \u001b[38;5;28;01mlambda\u001b[39;00m url: uc_open(driver, url)\n\u001b[0;32m   3719\u001b[0m     driver\u001b[38;5;241m.\u001b[39muc_open_with_tab \u001b[38;5;241m=\u001b[39m (\n\u001b[0;32m   3720\u001b[0m         \u001b[38;5;28;01mlambda\u001b[39;00m url: uc_open_with_tab(driver, url)\n\u001b[0;32m   3721\u001b[0m     )\n",
      "File \u001b[1;32m~\\anaconda3\\lib\\site-packages\\seleniumbase\\core\\browser_launcher.py:393\u001b[0m, in \u001b[0;36muc_special_open_if_cf\u001b[1;34m(driver, url, proxy_string, mobile_emulator, device_width, device_height, device_pixel_ratio)\u001b[0m\n\u001b[0;32m    391\u001b[0m             driver\u001b[38;5;241m.\u001b[39mswitch_to\u001b[38;5;241m.\u001b[39mwindow(driver\u001b[38;5;241m.\u001b[39mwindow_handles[\u001b[38;5;241m-\u001b[39m\u001b[38;5;241m1\u001b[39m])\n\u001b[0;32m    392\u001b[0m     \u001b[38;5;28;01melse\u001b[39;00m:\n\u001b[1;32m--> 393\u001b[0m         \u001b[43mdriver\u001b[49m\u001b[38;5;241;43m.\u001b[39;49m\u001b[43mdefault_get\u001b[49m\u001b[43m(\u001b[49m\u001b[43murl\u001b[49m\u001b[43m)\u001b[49m  \u001b[38;5;66;03m# The original one\u001b[39;00m\n\u001b[0;32m    394\u001b[0m \u001b[38;5;28;01melse\u001b[39;00m:\n\u001b[0;32m    395\u001b[0m     driver\u001b[38;5;241m.\u001b[39mdefault_get(url)  \u001b[38;5;66;03m# The original one\u001b[39;00m\n",
      "File \u001b[1;32m~\\anaconda3\\lib\\site-packages\\seleniumbase\\undetected\\__init__.py:381\u001b[0m, in \u001b[0;36mChrome.get\u001b[1;34m(self, url)\u001b[0m\n\u001b[0;32m    379\u001b[0m \u001b[38;5;28;01mdef\u001b[39;00m \u001b[38;5;21mget\u001b[39m(\u001b[38;5;28mself\u001b[39m, url):\n\u001b[0;32m    380\u001b[0m     \u001b[38;5;28mself\u001b[39m\u001b[38;5;241m.\u001b[39mremove_cdc_props_as_needed()\n\u001b[1;32m--> 381\u001b[0m     \u001b[38;5;28;01mreturn\u001b[39;00m \u001b[38;5;28;43msuper\u001b[39;49m\u001b[43m(\u001b[49m\u001b[43m)\u001b[49m\u001b[38;5;241;43m.\u001b[39;49m\u001b[43mget\u001b[49m\u001b[43m(\u001b[49m\u001b[43murl\u001b[49m\u001b[43m)\u001b[49m\n",
      "File \u001b[1;32m~\\anaconda3\\lib\\site-packages\\selenium\\webdriver\\remote\\webdriver.py:356\u001b[0m, in \u001b[0;36mWebDriver.get\u001b[1;34m(self, url)\u001b[0m\n\u001b[0;32m    354\u001b[0m \u001b[38;5;28;01mdef\u001b[39;00m \u001b[38;5;21mget\u001b[39m(\u001b[38;5;28mself\u001b[39m, url: \u001b[38;5;28mstr\u001b[39m) \u001b[38;5;241m-\u001b[39m\u001b[38;5;241m>\u001b[39m \u001b[38;5;28;01mNone\u001b[39;00m:\n\u001b[0;32m    355\u001b[0m \u001b[38;5;250m    \u001b[39m\u001b[38;5;124;03m\"\"\"Loads a web page in the current browser session.\"\"\"\u001b[39;00m\n\u001b[1;32m--> 356\u001b[0m     \u001b[38;5;28;43mself\u001b[39;49m\u001b[38;5;241;43m.\u001b[39;49m\u001b[43mexecute\u001b[49m\u001b[43m(\u001b[49m\u001b[43mCommand\u001b[49m\u001b[38;5;241;43m.\u001b[39;49m\u001b[43mGET\u001b[49m\u001b[43m,\u001b[49m\u001b[43m \u001b[49m\u001b[43m{\u001b[49m\u001b[38;5;124;43m\"\u001b[39;49m\u001b[38;5;124;43murl\u001b[39;49m\u001b[38;5;124;43m\"\u001b[39;49m\u001b[43m:\u001b[49m\u001b[43m \u001b[49m\u001b[43murl\u001b[49m\u001b[43m}\u001b[49m\u001b[43m)\u001b[49m\n",
      "File \u001b[1;32m~\\anaconda3\\lib\\site-packages\\selenium\\webdriver\\remote\\webdriver.py:347\u001b[0m, in \u001b[0;36mWebDriver.execute\u001b[1;34m(self, driver_command, params)\u001b[0m\n\u001b[0;32m    345\u001b[0m response \u001b[38;5;241m=\u001b[39m \u001b[38;5;28mself\u001b[39m\u001b[38;5;241m.\u001b[39mcommand_executor\u001b[38;5;241m.\u001b[39mexecute(driver_command, params)\n\u001b[0;32m    346\u001b[0m \u001b[38;5;28;01mif\u001b[39;00m response:\n\u001b[1;32m--> 347\u001b[0m     \u001b[38;5;28;43mself\u001b[39;49m\u001b[38;5;241;43m.\u001b[39;49m\u001b[43merror_handler\u001b[49m\u001b[38;5;241;43m.\u001b[39;49m\u001b[43mcheck_response\u001b[49m\u001b[43m(\u001b[49m\u001b[43mresponse\u001b[49m\u001b[43m)\u001b[49m\n\u001b[0;32m    348\u001b[0m     response[\u001b[38;5;124m\"\u001b[39m\u001b[38;5;124mvalue\u001b[39m\u001b[38;5;124m\"\u001b[39m] \u001b[38;5;241m=\u001b[39m \u001b[38;5;28mself\u001b[39m\u001b[38;5;241m.\u001b[39m_unwrap_value(response\u001b[38;5;241m.\u001b[39mget(\u001b[38;5;124m\"\u001b[39m\u001b[38;5;124mvalue\u001b[39m\u001b[38;5;124m\"\u001b[39m, \u001b[38;5;28;01mNone\u001b[39;00m))\n\u001b[0;32m    349\u001b[0m     \u001b[38;5;28;01mreturn\u001b[39;00m response\n",
      "File \u001b[1;32m~\\anaconda3\\lib\\site-packages\\selenium\\webdriver\\remote\\errorhandler.py:229\u001b[0m, in \u001b[0;36mErrorHandler.check_response\u001b[1;34m(self, response)\u001b[0m\n\u001b[0;32m    227\u001b[0m         alert_text \u001b[38;5;241m=\u001b[39m value[\u001b[38;5;124m\"\u001b[39m\u001b[38;5;124malert\u001b[39m\u001b[38;5;124m\"\u001b[39m]\u001b[38;5;241m.\u001b[39mget(\u001b[38;5;124m\"\u001b[39m\u001b[38;5;124mtext\u001b[39m\u001b[38;5;124m\"\u001b[39m)\n\u001b[0;32m    228\u001b[0m     \u001b[38;5;28;01mraise\u001b[39;00m exception_class(message, screen, stacktrace, alert_text)  \u001b[38;5;66;03m# type: ignore[call-arg]  # mypy is not smart enough here\u001b[39;00m\n\u001b[1;32m--> 229\u001b[0m \u001b[38;5;28;01mraise\u001b[39;00m exception_class(message, screen, stacktrace)\n",
      "\u001b[1;31mNoSuchWindowException\u001b[0m: Message: no such window: target window already closed\nfrom unknown error: web view not found\n  (Session info: chrome=123.0.6312.86)\nStacktrace:\n\tGetHandleVerifier [0x00007FF7BC327062+63090]\n\t(No symbol) [0x00007FF7BC292CB2]\n\t(No symbol) [0x00007FF7BC12EC65]\n\t(No symbol) [0x00007FF7BC10CA7C]\n\t(No symbol) [0x00007FF7BC19D687]\n\t(No symbol) [0x00007FF7BC1B2AC1]\n\t(No symbol) [0x00007FF7BC196D83]\n\t(No symbol) [0x00007FF7BC1683A8]\n\t(No symbol) [0x00007FF7BC169441]\n\tGetHandleVerifier [0x00007FF7BC7225CD+4238301]\n\tGetHandleVerifier [0x00007FF7BC75F72D+4488509]\n\tGetHandleVerifier [0x00007FF7BC757A0F+4456479]\n\tGetHandleVerifier [0x00007FF7BC4005A6+953270]\n\t(No symbol) [0x00007FF7BC29E57F]\n\t(No symbol) [0x00007FF7BC299254]\n\t(No symbol) [0x00007FF7BC29938B]\n\t(No symbol) [0x00007FF7BC289BC4]\n\tBaseThreadInitThunk [0x00007FFC3559257D+29]\n\tRtlUserThreadStart [0x00007FFC3690AA48+40]\n"
     ]
    }
   ],
   "source": [
    "test = Careerfuture()"
   ]
  },
  {
   "cell_type": "code",
   "execution_count": null,
   "id": "65e0a3c2-cdc8-424d-9f92-4dea72d1c97d",
   "metadata": {},
   "outputs": [],
   "source": []
  }
 ],
 "metadata": {
  "kernelspec": {
   "display_name": "Python 3 (ipykernel)",
   "language": "python",
   "name": "python3"
  },
  "language_info": {
   "codemirror_mode": {
    "name": "ipython",
    "version": 3
   },
   "file_extension": ".py",
   "mimetype": "text/x-python",
   "name": "python",
   "nbconvert_exporter": "python",
   "pygments_lexer": "ipython3",
   "version": "3.10.13"
  }
 },
 "nbformat": 4,
 "nbformat_minor": 5
}
